{
 "metadata": {
  "language_info": {
   "codemirror_mode": {
    "name": "ipython",
    "version": 3
   },
   "file_extension": ".py",
   "mimetype": "text/x-python",
   "name": "python",
   "nbconvert_exporter": "python",
   "pygments_lexer": "ipython3",
   "version": "3.7.2-final"
  },
  "orig_nbformat": 2,
  "kernelspec": {
   "name": "python3",
   "display_name": "Python 3.7.2 64-bit",
   "metadata": {
    "interpreter": {
     "hash": "2107dc5a163d7f3f7d3cb65283aa0e4e50d7d24c2ef208f9854b9df550d7f127"
    }
   }
  }
 },
 "nbformat": 4,
 "nbformat_minor": 2,
 "cells": [
  {
   "source": [
    "# Import Pandas"
   ],
   "cell_type": "markdown",
   "metadata": {}
  },
  {
   "cell_type": "code",
   "execution_count": 42,
   "metadata": {},
   "outputs": [],
   "source": [
    "import pandas as pd"
   ]
  },
  {
   "source": [
    "# Load data into a dataframe"
   ],
   "cell_type": "markdown",
   "metadata": {}
  },
  {
   "cell_type": "code",
   "execution_count": 43,
   "metadata": {},
   "outputs": [
    {
     "output_type": "execute_result",
     "data": {
      "text/plain": [
       "           RA        Dec     PmrA    PMDEC  sigPMRA  sigPMDEC  w1mpro_pm  \\\n",
       "0  359.906120  -8.837616  0.12063  0.00614  0.01450    0.0145     15.239   \n",
       "1    0.295146  -9.537763  0.46477 -0.28417  0.09770    0.0943     18.556   \n",
       "2    0.002239 -15.580039 -0.00660  0.26086  0.06524    0.0038      9.416   \n",
       "3  359.610523 -15.882858  0.12830 -0.04228  0.01450    0.0136     14.898   \n",
       "4  359.226041 -15.889380 -0.43102 -0.69168  0.01490    0.0148     15.574   \n",
       "5  359.226267 -15.889004 -0.50104 -0.79827  0.02420    0.0251     16.313   \n",
       "6  359.973032 -28.165985 -0.00670 -0.28520  0.03330    0.0357     17.051   \n",
       "7    0.573095 -29.655268  0.13613 -0.00823  0.00940    0.0087     14.302   \n",
       "8  359.999839 -30.024475  0.32629 -0.30010  0.00990    0.0093     14.405   \n",
       "9    0.392750 -33.211435  0.20955 -0.02961  0.01400    0.0129     15.160   \n",
       "\n",
       "   w1sigmpro_pm  w2mpro_pm  w2sigmpro_pm     2MASSRA   2MASSDEC     j_m  \\\n",
       "0         0.019     14.664         0.022         NaN        NaN     NaN   \n",
       "1         0.200     16.111         0.072         NaN        NaN     NaN   \n",
       "2         0.011      9.222         0.008    0.001162 -15.580398  10.474   \n",
       "3         0.018     14.948         0.034  359.610109 -15.882720  15.785   \n",
       "4         0.028     13.830         0.022  359.228210 -15.886426  15.824   \n",
       "5         0.036     14.551         0.022         NaN        NaN     NaN   \n",
       "6         0.055     15.034         0.031         NaN        NaN     NaN   \n",
       "7         0.014     14.119         0.016    0.572648 -29.655226  15.248   \n",
       "8         0.015     14.196         0.018  359.998365 -30.023087  15.328   \n",
       "9         0.018     14.851         0.025    0.391804 -33.211315  16.067   \n",
       "\n",
       "   j_msigcom     h_m  h_msigcom     k_m  k_msigcom Unnamed: 18  \n",
       "0        NaN     NaN        NaN     NaN        NaN         NaN  \n",
       "1        NaN     NaN        NaN     NaN        NaN         NaN  \n",
       "2     0.0231   9.899     0.0246   9.627     0.0197         NaN  \n",
       "3     0.0671  15.239     0.0718  14.869     0.0926         NaN  \n",
       "4     0.0574  15.630     0.1000  15.771     0.1831         NaN  \n",
       "5        NaN     NaN        NaN     NaN        NaN         NaN  \n",
       "6        NaN     NaN        NaN     NaN        NaN         NaN  \n",
       "7     0.0473  14.687     0.0493  14.408     0.0685         NaN  \n",
       "8     0.0437  14.838     0.0695  14.465     0.0892         NaN  \n",
       "9     0.0953  15.410     0.1307  15.343     0.2074         NaN  "
      ],
      "text/html": "<div>\n<style scoped>\n    .dataframe tbody tr th:only-of-type {\n        vertical-align: middle;\n    }\n\n    .dataframe tbody tr th {\n        vertical-align: top;\n    }\n\n    .dataframe thead th {\n        text-align: right;\n    }\n</style>\n<table border=\"1\" class=\"dataframe\">\n  <thead>\n    <tr style=\"text-align: right;\">\n      <th></th>\n      <th>RA</th>\n      <th>Dec</th>\n      <th>PmrA</th>\n      <th>PMDEC</th>\n      <th>sigPMRA</th>\n      <th>sigPMDEC</th>\n      <th>w1mpro_pm</th>\n      <th>w1sigmpro_pm</th>\n      <th>w2mpro_pm</th>\n      <th>w2sigmpro_pm</th>\n      <th>2MASSRA</th>\n      <th>2MASSDEC</th>\n      <th>j_m</th>\n      <th>j_msigcom</th>\n      <th>h_m</th>\n      <th>h_msigcom</th>\n      <th>k_m</th>\n      <th>k_msigcom</th>\n      <th>Unnamed: 18</th>\n    </tr>\n  </thead>\n  <tbody>\n    <tr>\n      <th>0</th>\n      <td>359.906120</td>\n      <td>-8.837616</td>\n      <td>0.12063</td>\n      <td>0.00614</td>\n      <td>0.01450</td>\n      <td>0.0145</td>\n      <td>15.239</td>\n      <td>0.019</td>\n      <td>14.664</td>\n      <td>0.022</td>\n      <td>NaN</td>\n      <td>NaN</td>\n      <td>NaN</td>\n      <td>NaN</td>\n      <td>NaN</td>\n      <td>NaN</td>\n      <td>NaN</td>\n      <td>NaN</td>\n      <td>NaN</td>\n    </tr>\n    <tr>\n      <th>1</th>\n      <td>0.295146</td>\n      <td>-9.537763</td>\n      <td>0.46477</td>\n      <td>-0.28417</td>\n      <td>0.09770</td>\n      <td>0.0943</td>\n      <td>18.556</td>\n      <td>0.200</td>\n      <td>16.111</td>\n      <td>0.072</td>\n      <td>NaN</td>\n      <td>NaN</td>\n      <td>NaN</td>\n      <td>NaN</td>\n      <td>NaN</td>\n      <td>NaN</td>\n      <td>NaN</td>\n      <td>NaN</td>\n      <td>NaN</td>\n    </tr>\n    <tr>\n      <th>2</th>\n      <td>0.002239</td>\n      <td>-15.580039</td>\n      <td>-0.00660</td>\n      <td>0.26086</td>\n      <td>0.06524</td>\n      <td>0.0038</td>\n      <td>9.416</td>\n      <td>0.011</td>\n      <td>9.222</td>\n      <td>0.008</td>\n      <td>0.001162</td>\n      <td>-15.580398</td>\n      <td>10.474</td>\n      <td>0.0231</td>\n      <td>9.899</td>\n      <td>0.0246</td>\n      <td>9.627</td>\n      <td>0.0197</td>\n      <td>NaN</td>\n    </tr>\n    <tr>\n      <th>3</th>\n      <td>359.610523</td>\n      <td>-15.882858</td>\n      <td>0.12830</td>\n      <td>-0.04228</td>\n      <td>0.01450</td>\n      <td>0.0136</td>\n      <td>14.898</td>\n      <td>0.018</td>\n      <td>14.948</td>\n      <td>0.034</td>\n      <td>359.610109</td>\n      <td>-15.882720</td>\n      <td>15.785</td>\n      <td>0.0671</td>\n      <td>15.239</td>\n      <td>0.0718</td>\n      <td>14.869</td>\n      <td>0.0926</td>\n      <td>NaN</td>\n    </tr>\n    <tr>\n      <th>4</th>\n      <td>359.226041</td>\n      <td>-15.889380</td>\n      <td>-0.43102</td>\n      <td>-0.69168</td>\n      <td>0.01490</td>\n      <td>0.0148</td>\n      <td>15.574</td>\n      <td>0.028</td>\n      <td>13.830</td>\n      <td>0.022</td>\n      <td>359.228210</td>\n      <td>-15.886426</td>\n      <td>15.824</td>\n      <td>0.0574</td>\n      <td>15.630</td>\n      <td>0.1000</td>\n      <td>15.771</td>\n      <td>0.1831</td>\n      <td>NaN</td>\n    </tr>\n    <tr>\n      <th>5</th>\n      <td>359.226267</td>\n      <td>-15.889004</td>\n      <td>-0.50104</td>\n      <td>-0.79827</td>\n      <td>0.02420</td>\n      <td>0.0251</td>\n      <td>16.313</td>\n      <td>0.036</td>\n      <td>14.551</td>\n      <td>0.022</td>\n      <td>NaN</td>\n      <td>NaN</td>\n      <td>NaN</td>\n      <td>NaN</td>\n      <td>NaN</td>\n      <td>NaN</td>\n      <td>NaN</td>\n      <td>NaN</td>\n      <td>NaN</td>\n    </tr>\n    <tr>\n      <th>6</th>\n      <td>359.973032</td>\n      <td>-28.165985</td>\n      <td>-0.00670</td>\n      <td>-0.28520</td>\n      <td>0.03330</td>\n      <td>0.0357</td>\n      <td>17.051</td>\n      <td>0.055</td>\n      <td>15.034</td>\n      <td>0.031</td>\n      <td>NaN</td>\n      <td>NaN</td>\n      <td>NaN</td>\n      <td>NaN</td>\n      <td>NaN</td>\n      <td>NaN</td>\n      <td>NaN</td>\n      <td>NaN</td>\n      <td>NaN</td>\n    </tr>\n    <tr>\n      <th>7</th>\n      <td>0.573095</td>\n      <td>-29.655268</td>\n      <td>0.13613</td>\n      <td>-0.00823</td>\n      <td>0.00940</td>\n      <td>0.0087</td>\n      <td>14.302</td>\n      <td>0.014</td>\n      <td>14.119</td>\n      <td>0.016</td>\n      <td>0.572648</td>\n      <td>-29.655226</td>\n      <td>15.248</td>\n      <td>0.0473</td>\n      <td>14.687</td>\n      <td>0.0493</td>\n      <td>14.408</td>\n      <td>0.0685</td>\n      <td>NaN</td>\n    </tr>\n    <tr>\n      <th>8</th>\n      <td>359.999839</td>\n      <td>-30.024475</td>\n      <td>0.32629</td>\n      <td>-0.30010</td>\n      <td>0.00990</td>\n      <td>0.0093</td>\n      <td>14.405</td>\n      <td>0.015</td>\n      <td>14.196</td>\n      <td>0.018</td>\n      <td>359.998365</td>\n      <td>-30.023087</td>\n      <td>15.328</td>\n      <td>0.0437</td>\n      <td>14.838</td>\n      <td>0.0695</td>\n      <td>14.465</td>\n      <td>0.0892</td>\n      <td>NaN</td>\n    </tr>\n    <tr>\n      <th>9</th>\n      <td>0.392750</td>\n      <td>-33.211435</td>\n      <td>0.20955</td>\n      <td>-0.02961</td>\n      <td>0.01400</td>\n      <td>0.0129</td>\n      <td>15.160</td>\n      <td>0.018</td>\n      <td>14.851</td>\n      <td>0.025</td>\n      <td>0.391804</td>\n      <td>-33.211315</td>\n      <td>16.067</td>\n      <td>0.0953</td>\n      <td>15.410</td>\n      <td>0.1307</td>\n      <td>15.343</td>\n      <td>0.2074</td>\n      <td>NaN</td>\n    </tr>\n  </tbody>\n</table>\n</div>"
     },
     "metadata": {},
     "execution_count": 43
    }
   ],
   "source": [
    "BASE = \"UHSRESULTSPART1.csv\"\n",
    "EXTRA = \"MarksData.csv\"\n",
    "FILENAME = \"UHS1\"\n",
    "df_base = pd.read_csv(BASE)\n",
    "df_base.head(10)\n",
    "df_extra = pd.read_csv(EXTRA)\n",
    "df_extra.head(10)"
   ]
  },
  {
   "source": [
    "# Change indexing to the BASE dataframe"
   ],
   "cell_type": "markdown",
   "metadata": {}
  },
  {
   "cell_type": "code",
   "execution_count": 44,
   "metadata": {},
   "outputs": [],
   "source": [
    "def incremeter(x):\n",
    "    return 0 + x\n",
    "df_base.upload_ID = df_base.upload_ID.apply(incremeter)"
   ]
  },
  {
   "source": [
    "# Change indexing for Base to \"upload_ID\""
   ],
   "cell_type": "markdown",
   "metadata": {}
  },
  {
   "cell_type": "code",
   "execution_count": 45,
   "metadata": {},
   "outputs": [
    {
     "output_type": "execute_result",
     "data": {
      "text/plain": [
       "            upload_RA  upload_Dec  distance   ra  dec  jAperMag3  jAperMag3Err\n",
       "upload_ID                                                                     \n",
       "1          359.906087   -8.837616       0.0  0.0  0.0        0.0           0.0\n",
       "2            0.295015   -9.537763       0.0  0.0  0.0        0.0           0.0\n",
       "3            0.002241  -15.580039       0.0  0.0  0.0        0.0           0.0\n",
       "4          359.610486  -15.882858       0.0  0.0  0.0        0.0           0.0\n",
       "5          359.226165  -15.889380       0.0  0.0  0.0        0.0           0.0"
      ],
      "text/html": "<div>\n<style scoped>\n    .dataframe tbody tr th:only-of-type {\n        vertical-align: middle;\n    }\n\n    .dataframe tbody tr th {\n        vertical-align: top;\n    }\n\n    .dataframe thead th {\n        text-align: right;\n    }\n</style>\n<table border=\"1\" class=\"dataframe\">\n  <thead>\n    <tr style=\"text-align: right;\">\n      <th></th>\n      <th>upload_RA</th>\n      <th>upload_Dec</th>\n      <th>distance</th>\n      <th>ra</th>\n      <th>dec</th>\n      <th>jAperMag3</th>\n      <th>jAperMag3Err</th>\n    </tr>\n    <tr>\n      <th>upload_ID</th>\n      <th></th>\n      <th></th>\n      <th></th>\n      <th></th>\n      <th></th>\n      <th></th>\n      <th></th>\n    </tr>\n  </thead>\n  <tbody>\n    <tr>\n      <th>1</th>\n      <td>359.906087</td>\n      <td>-8.837616</td>\n      <td>0.0</td>\n      <td>0.0</td>\n      <td>0.0</td>\n      <td>0.0</td>\n      <td>0.0</td>\n    </tr>\n    <tr>\n      <th>2</th>\n      <td>0.295015</td>\n      <td>-9.537763</td>\n      <td>0.0</td>\n      <td>0.0</td>\n      <td>0.0</td>\n      <td>0.0</td>\n      <td>0.0</td>\n    </tr>\n    <tr>\n      <th>3</th>\n      <td>0.002241</td>\n      <td>-15.580039</td>\n      <td>0.0</td>\n      <td>0.0</td>\n      <td>0.0</td>\n      <td>0.0</td>\n      <td>0.0</td>\n    </tr>\n    <tr>\n      <th>4</th>\n      <td>359.610486</td>\n      <td>-15.882858</td>\n      <td>0.0</td>\n      <td>0.0</td>\n      <td>0.0</td>\n      <td>0.0</td>\n      <td>0.0</td>\n    </tr>\n    <tr>\n      <th>5</th>\n      <td>359.226165</td>\n      <td>-15.889380</td>\n      <td>0.0</td>\n      <td>0.0</td>\n      <td>0.0</td>\n      <td>0.0</td>\n      <td>0.0</td>\n    </tr>\n  </tbody>\n</table>\n</div>"
     },
     "metadata": {},
     "execution_count": 45
    }
   ],
   "source": [
    "df_base.set_index('upload_ID', inplace=True)\n",
    "df_base.head(5)"
   ]
  },
  {
   "cell_type": "code",
   "execution_count": 46,
   "metadata": {},
   "outputs": [
    {
     "output_type": "execute_result",
     "data": {
      "text/plain": [
       "       upload_RA  upload_Dec  distance          ra        dec  jAperMag3  \\\n",
       "1     359.906087   -8.837616  0.000000    0.000000   0.000000   0.000000   \n",
       "2       0.295015   -9.537763  0.000000    0.000000   0.000000   0.000000   \n",
       "3       0.002241  -15.580039  0.000000    0.000000   0.000000   0.000000   \n",
       "4     359.610486  -15.882858  0.000000    0.000000   0.000000   0.000000   \n",
       "5     359.226165  -15.889380  0.000000    0.000000   0.000000   0.000000   \n",
       "...          ...         ...       ...         ...        ...        ...   \n",
       "2998  159.575159   62.775717  0.000000    0.000000   0.000000   0.000000   \n",
       "2999  161.847475   28.392516  1.862171  161.847523  28.392001  19.479061   \n",
       "2999  161.847475   28.392516  8.908558  161.848604  28.394783  17.839567   \n",
       "3000  161.571524   23.245712  3.155830  161.572261  23.246268  14.336910   \n",
       "3000  161.571524   23.245712  0.312862  161.571430  23.245721  15.992447   \n",
       "\n",
       "      jAperMag3Err          RA        Dec     PmrA  ...  sigPMRA  sigPMDEC  \\\n",
       "1         0.000000    0.295146  -9.537763  0.46477  ...  0.09770    0.0943   \n",
       "2         0.000000    0.002239 -15.580039 -0.00660  ...  0.06524    0.0038   \n",
       "3         0.000000  359.610523 -15.882858  0.12830  ...  0.01450    0.0136   \n",
       "4         0.000000  359.226041 -15.889380 -0.43102  ...  0.01490    0.0148   \n",
       "5         0.000000  359.226267 -15.889004 -0.50104  ...  0.02420    0.0251   \n",
       "...            ...         ...        ...      ...  ...      ...       ...   \n",
       "2998      0.000000  161.571436  23.245712 -0.29231  ...  0.01780    0.0194   \n",
       "2999      0.203370  160.257465  58.709567 -0.08156  ...  0.00740    0.0080   \n",
       "2999      0.047382  160.257465  58.709567 -0.08156  ...  0.00740    0.0080   \n",
       "3000      0.003865  161.682663 -12.928465 -0.17865  ...  0.00850    0.0100   \n",
       "3000      0.010017  161.682663 -12.928465 -0.17865  ...  0.00850    0.0100   \n",
       "\n",
       "      w1mpro_pm  w1sigmpro_pm  w2mpro_pm  w2sigmpro_pm     2MASSRA   2MASSDEC  \\\n",
       "1        18.556         0.200     16.111         0.072         NaN        NaN   \n",
       "2         9.416         0.011      9.222         0.008    0.001162 -15.580398   \n",
       "3        14.898         0.018     14.948         0.034  359.610109 -15.882720   \n",
       "4        15.574         0.028     13.830         0.022  359.228210 -15.886426   \n",
       "5        16.313         0.036     14.551         0.022         NaN        NaN   \n",
       "...         ...           ...        ...           ...         ...        ...   \n",
       "2998     14.731         0.024     14.658         0.028  161.572657  23.246157   \n",
       "2999     14.248         0.015     14.024         0.013  160.258106  58.709805   \n",
       "2999     14.248         0.015     14.024         0.013  160.258106  58.709805   \n",
       "3000     14.276         0.015     14.188         0.018  161.683421 -12.927946   \n",
       "3000     14.276         0.015     14.188         0.018  161.683421 -12.927946   \n",
       "\n",
       "         j_m  j_msigcom  \n",
       "1        NaN        NaN  \n",
       "2     10.474     0.0231  \n",
       "3     15.785     0.0671  \n",
       "4     15.824     0.0574  \n",
       "5        NaN        NaN  \n",
       "...      ...        ...  \n",
       "2998  14.382     0.0300  \n",
       "2999  15.316     0.0545  \n",
       "2999  15.316     0.0545  \n",
       "3000  15.076     0.0346  \n",
       "3000  15.076     0.0346  \n",
       "\n",
       "[3515 rows x 21 columns]"
      ],
      "text/html": "<div>\n<style scoped>\n    .dataframe tbody tr th:only-of-type {\n        vertical-align: middle;\n    }\n\n    .dataframe tbody tr th {\n        vertical-align: top;\n    }\n\n    .dataframe thead th {\n        text-align: right;\n    }\n</style>\n<table border=\"1\" class=\"dataframe\">\n  <thead>\n    <tr style=\"text-align: right;\">\n      <th></th>\n      <th>upload_RA</th>\n      <th>upload_Dec</th>\n      <th>distance</th>\n      <th>ra</th>\n      <th>dec</th>\n      <th>jAperMag3</th>\n      <th>jAperMag3Err</th>\n      <th>RA</th>\n      <th>Dec</th>\n      <th>PmrA</th>\n      <th>...</th>\n      <th>sigPMRA</th>\n      <th>sigPMDEC</th>\n      <th>w1mpro_pm</th>\n      <th>w1sigmpro_pm</th>\n      <th>w2mpro_pm</th>\n      <th>w2sigmpro_pm</th>\n      <th>2MASSRA</th>\n      <th>2MASSDEC</th>\n      <th>j_m</th>\n      <th>j_msigcom</th>\n    </tr>\n  </thead>\n  <tbody>\n    <tr>\n      <th>1</th>\n      <td>359.906087</td>\n      <td>-8.837616</td>\n      <td>0.000000</td>\n      <td>0.000000</td>\n      <td>0.000000</td>\n      <td>0.000000</td>\n      <td>0.000000</td>\n      <td>0.295146</td>\n      <td>-9.537763</td>\n      <td>0.46477</td>\n      <td>...</td>\n      <td>0.09770</td>\n      <td>0.0943</td>\n      <td>18.556</td>\n      <td>0.200</td>\n      <td>16.111</td>\n      <td>0.072</td>\n      <td>NaN</td>\n      <td>NaN</td>\n      <td>NaN</td>\n      <td>NaN</td>\n    </tr>\n    <tr>\n      <th>2</th>\n      <td>0.295015</td>\n      <td>-9.537763</td>\n      <td>0.000000</td>\n      <td>0.000000</td>\n      <td>0.000000</td>\n      <td>0.000000</td>\n      <td>0.000000</td>\n      <td>0.002239</td>\n      <td>-15.580039</td>\n      <td>-0.00660</td>\n      <td>...</td>\n      <td>0.06524</td>\n      <td>0.0038</td>\n      <td>9.416</td>\n      <td>0.011</td>\n      <td>9.222</td>\n      <td>0.008</td>\n      <td>0.001162</td>\n      <td>-15.580398</td>\n      <td>10.474</td>\n      <td>0.0231</td>\n    </tr>\n    <tr>\n      <th>3</th>\n      <td>0.002241</td>\n      <td>-15.580039</td>\n      <td>0.000000</td>\n      <td>0.000000</td>\n      <td>0.000000</td>\n      <td>0.000000</td>\n      <td>0.000000</td>\n      <td>359.610523</td>\n      <td>-15.882858</td>\n      <td>0.12830</td>\n      <td>...</td>\n      <td>0.01450</td>\n      <td>0.0136</td>\n      <td>14.898</td>\n      <td>0.018</td>\n      <td>14.948</td>\n      <td>0.034</td>\n      <td>359.610109</td>\n      <td>-15.882720</td>\n      <td>15.785</td>\n      <td>0.0671</td>\n    </tr>\n    <tr>\n      <th>4</th>\n      <td>359.610486</td>\n      <td>-15.882858</td>\n      <td>0.000000</td>\n      <td>0.000000</td>\n      <td>0.000000</td>\n      <td>0.000000</td>\n      <td>0.000000</td>\n      <td>359.226041</td>\n      <td>-15.889380</td>\n      <td>-0.43102</td>\n      <td>...</td>\n      <td>0.01490</td>\n      <td>0.0148</td>\n      <td>15.574</td>\n      <td>0.028</td>\n      <td>13.830</td>\n      <td>0.022</td>\n      <td>359.228210</td>\n      <td>-15.886426</td>\n      <td>15.824</td>\n      <td>0.0574</td>\n    </tr>\n    <tr>\n      <th>5</th>\n      <td>359.226165</td>\n      <td>-15.889380</td>\n      <td>0.000000</td>\n      <td>0.000000</td>\n      <td>0.000000</td>\n      <td>0.000000</td>\n      <td>0.000000</td>\n      <td>359.226267</td>\n      <td>-15.889004</td>\n      <td>-0.50104</td>\n      <td>...</td>\n      <td>0.02420</td>\n      <td>0.0251</td>\n      <td>16.313</td>\n      <td>0.036</td>\n      <td>14.551</td>\n      <td>0.022</td>\n      <td>NaN</td>\n      <td>NaN</td>\n      <td>NaN</td>\n      <td>NaN</td>\n    </tr>\n    <tr>\n      <th>...</th>\n      <td>...</td>\n      <td>...</td>\n      <td>...</td>\n      <td>...</td>\n      <td>...</td>\n      <td>...</td>\n      <td>...</td>\n      <td>...</td>\n      <td>...</td>\n      <td>...</td>\n      <td>...</td>\n      <td>...</td>\n      <td>...</td>\n      <td>...</td>\n      <td>...</td>\n      <td>...</td>\n      <td>...</td>\n      <td>...</td>\n      <td>...</td>\n      <td>...</td>\n      <td>...</td>\n    </tr>\n    <tr>\n      <th>2998</th>\n      <td>159.575159</td>\n      <td>62.775717</td>\n      <td>0.000000</td>\n      <td>0.000000</td>\n      <td>0.000000</td>\n      <td>0.000000</td>\n      <td>0.000000</td>\n      <td>161.571436</td>\n      <td>23.245712</td>\n      <td>-0.29231</td>\n      <td>...</td>\n      <td>0.01780</td>\n      <td>0.0194</td>\n      <td>14.731</td>\n      <td>0.024</td>\n      <td>14.658</td>\n      <td>0.028</td>\n      <td>161.572657</td>\n      <td>23.246157</td>\n      <td>14.382</td>\n      <td>0.0300</td>\n    </tr>\n    <tr>\n      <th>2999</th>\n      <td>161.847475</td>\n      <td>28.392516</td>\n      <td>1.862171</td>\n      <td>161.847523</td>\n      <td>28.392001</td>\n      <td>19.479061</td>\n      <td>0.203370</td>\n      <td>160.257465</td>\n      <td>58.709567</td>\n      <td>-0.08156</td>\n      <td>...</td>\n      <td>0.00740</td>\n      <td>0.0080</td>\n      <td>14.248</td>\n      <td>0.015</td>\n      <td>14.024</td>\n      <td>0.013</td>\n      <td>160.258106</td>\n      <td>58.709805</td>\n      <td>15.316</td>\n      <td>0.0545</td>\n    </tr>\n    <tr>\n      <th>2999</th>\n      <td>161.847475</td>\n      <td>28.392516</td>\n      <td>8.908558</td>\n      <td>161.848604</td>\n      <td>28.394783</td>\n      <td>17.839567</td>\n      <td>0.047382</td>\n      <td>160.257465</td>\n      <td>58.709567</td>\n      <td>-0.08156</td>\n      <td>...</td>\n      <td>0.00740</td>\n      <td>0.0080</td>\n      <td>14.248</td>\n      <td>0.015</td>\n      <td>14.024</td>\n      <td>0.013</td>\n      <td>160.258106</td>\n      <td>58.709805</td>\n      <td>15.316</td>\n      <td>0.0545</td>\n    </tr>\n    <tr>\n      <th>3000</th>\n      <td>161.571524</td>\n      <td>23.245712</td>\n      <td>3.155830</td>\n      <td>161.572261</td>\n      <td>23.246268</td>\n      <td>14.336910</td>\n      <td>0.003865</td>\n      <td>161.682663</td>\n      <td>-12.928465</td>\n      <td>-0.17865</td>\n      <td>...</td>\n      <td>0.00850</td>\n      <td>0.0100</td>\n      <td>14.276</td>\n      <td>0.015</td>\n      <td>14.188</td>\n      <td>0.018</td>\n      <td>161.683421</td>\n      <td>-12.927946</td>\n      <td>15.076</td>\n      <td>0.0346</td>\n    </tr>\n    <tr>\n      <th>3000</th>\n      <td>161.571524</td>\n      <td>23.245712</td>\n      <td>0.312862</td>\n      <td>161.571430</td>\n      <td>23.245721</td>\n      <td>15.992447</td>\n      <td>0.010017</td>\n      <td>161.682663</td>\n      <td>-12.928465</td>\n      <td>-0.17865</td>\n      <td>...</td>\n      <td>0.00850</td>\n      <td>0.0100</td>\n      <td>14.276</td>\n      <td>0.015</td>\n      <td>14.188</td>\n      <td>0.018</td>\n      <td>161.683421</td>\n      <td>-12.927946</td>\n      <td>15.076</td>\n      <td>0.0346</td>\n    </tr>\n  </tbody>\n</table>\n<p>3515 rows × 21 columns</p>\n</div>"
     },
     "metadata": {},
     "execution_count": 46
    }
   ],
   "source": [
    "df_base.join(df_extra).iloc[: , :21]"
   ]
  },
  {
   "source": [
    "# Save unflitered version"
   ],
   "cell_type": "markdown",
   "metadata": {}
  },
  {
   "cell_type": "code",
   "execution_count": 47,
   "metadata": {},
   "outputs": [],
   "source": [
    "df_base.to_csv(FILENAME + \"/Final_Output.csv\")"
   ]
  },
  {
   "source": [
    "# Remove duplicates, keep lowest distance"
   ],
   "cell_type": "markdown",
   "metadata": {}
  },
  {
   "cell_type": "code",
   "execution_count": 48,
   "metadata": {},
   "outputs": [
    {
     "output_type": "execute_result",
     "data": {
      "text/plain": [
       "            upload_RA  upload_Dec  distance   ra  dec  jAperMag3  jAperMag3Err\n",
       "upload_ID                                                                     \n",
       "1          359.906087   -8.837616       0.0  0.0  0.0        0.0           0.0\n",
       "2            0.295015   -9.537763       0.0  0.0  0.0        0.0           0.0\n",
       "3            0.002241  -15.580039       0.0  0.0  0.0        0.0           0.0\n",
       "4          359.610486  -15.882858       0.0  0.0  0.0        0.0           0.0\n",
       "5          359.226165  -15.889380       0.0  0.0  0.0        0.0           0.0\n",
       "6          359.226411  -15.889004       0.0  0.0  0.0        0.0           0.0\n",
       "7          359.973034  -28.165985       0.0  0.0  0.0        0.0           0.0\n",
       "8            0.573052  -29.655268       0.0  0.0  0.0        0.0           0.0\n",
       "9          359.999734  -30.024475       0.0  0.0  0.0        0.0           0.0\n",
       "10           0.392680  -33.211435       0.0  0.0  0.0        0.0           0.0\n",
       "11         359.955119  -33.025425       0.0  0.0  0.0        0.0           0.0\n",
       "12           0.059861  -33.204479       0.0  0.0  0.0        0.0           0.0\n",
       "13           0.203706  -35.158944       0.0  0.0  0.0        0.0           0.0\n",
       "14           0.667486  -34.230386       0.0  0.0  0.0        0.0           0.0\n",
       "15           0.546306  -43.166593       0.0  0.0  0.0        0.0           0.0\n",
       "16         359.186590  -48.249022       0.0  0.0  0.0        0.0           0.0\n",
       "17           0.497816  -49.436266       0.0  0.0  0.0        0.0           0.0\n",
       "18           1.194993  -55.871398       0.0  0.0  0.0        0.0           0.0\n",
       "19         359.655968  -55.499753       0.0  0.0  0.0        0.0           0.0\n",
       "24           0.643619  -59.314673       0.0  0.0  0.0        0.0           0.0"
      ],
      "text/html": "<div>\n<style scoped>\n    .dataframe tbody tr th:only-of-type {\n        vertical-align: middle;\n    }\n\n    .dataframe tbody tr th {\n        vertical-align: top;\n    }\n\n    .dataframe thead th {\n        text-align: right;\n    }\n</style>\n<table border=\"1\" class=\"dataframe\">\n  <thead>\n    <tr style=\"text-align: right;\">\n      <th></th>\n      <th>upload_RA</th>\n      <th>upload_Dec</th>\n      <th>distance</th>\n      <th>ra</th>\n      <th>dec</th>\n      <th>jAperMag3</th>\n      <th>jAperMag3Err</th>\n    </tr>\n    <tr>\n      <th>upload_ID</th>\n      <th></th>\n      <th></th>\n      <th></th>\n      <th></th>\n      <th></th>\n      <th></th>\n      <th></th>\n    </tr>\n  </thead>\n  <tbody>\n    <tr>\n      <th>1</th>\n      <td>359.906087</td>\n      <td>-8.837616</td>\n      <td>0.0</td>\n      <td>0.0</td>\n      <td>0.0</td>\n      <td>0.0</td>\n      <td>0.0</td>\n    </tr>\n    <tr>\n      <th>2</th>\n      <td>0.295015</td>\n      <td>-9.537763</td>\n      <td>0.0</td>\n      <td>0.0</td>\n      <td>0.0</td>\n      <td>0.0</td>\n      <td>0.0</td>\n    </tr>\n    <tr>\n      <th>3</th>\n      <td>0.002241</td>\n      <td>-15.580039</td>\n      <td>0.0</td>\n      <td>0.0</td>\n      <td>0.0</td>\n      <td>0.0</td>\n      <td>0.0</td>\n    </tr>\n    <tr>\n      <th>4</th>\n      <td>359.610486</td>\n      <td>-15.882858</td>\n      <td>0.0</td>\n      <td>0.0</td>\n      <td>0.0</td>\n      <td>0.0</td>\n      <td>0.0</td>\n    </tr>\n    <tr>\n      <th>5</th>\n      <td>359.226165</td>\n      <td>-15.889380</td>\n      <td>0.0</td>\n      <td>0.0</td>\n      <td>0.0</td>\n      <td>0.0</td>\n      <td>0.0</td>\n    </tr>\n    <tr>\n      <th>6</th>\n      <td>359.226411</td>\n      <td>-15.889004</td>\n      <td>0.0</td>\n      <td>0.0</td>\n      <td>0.0</td>\n      <td>0.0</td>\n      <td>0.0</td>\n    </tr>\n    <tr>\n      <th>7</th>\n      <td>359.973034</td>\n      <td>-28.165985</td>\n      <td>0.0</td>\n      <td>0.0</td>\n      <td>0.0</td>\n      <td>0.0</td>\n      <td>0.0</td>\n    </tr>\n    <tr>\n      <th>8</th>\n      <td>0.573052</td>\n      <td>-29.655268</td>\n      <td>0.0</td>\n      <td>0.0</td>\n      <td>0.0</td>\n      <td>0.0</td>\n      <td>0.0</td>\n    </tr>\n    <tr>\n      <th>9</th>\n      <td>359.999734</td>\n      <td>-30.024475</td>\n      <td>0.0</td>\n      <td>0.0</td>\n      <td>0.0</td>\n      <td>0.0</td>\n      <td>0.0</td>\n    </tr>\n    <tr>\n      <th>10</th>\n      <td>0.392680</td>\n      <td>-33.211435</td>\n      <td>0.0</td>\n      <td>0.0</td>\n      <td>0.0</td>\n      <td>0.0</td>\n      <td>0.0</td>\n    </tr>\n    <tr>\n      <th>11</th>\n      <td>359.955119</td>\n      <td>-33.025425</td>\n      <td>0.0</td>\n      <td>0.0</td>\n      <td>0.0</td>\n      <td>0.0</td>\n      <td>0.0</td>\n    </tr>\n    <tr>\n      <th>12</th>\n      <td>0.059861</td>\n      <td>-33.204479</td>\n      <td>0.0</td>\n      <td>0.0</td>\n      <td>0.0</td>\n      <td>0.0</td>\n      <td>0.0</td>\n    </tr>\n    <tr>\n      <th>13</th>\n      <td>0.203706</td>\n      <td>-35.158944</td>\n      <td>0.0</td>\n      <td>0.0</td>\n      <td>0.0</td>\n      <td>0.0</td>\n      <td>0.0</td>\n    </tr>\n    <tr>\n      <th>14</th>\n      <td>0.667486</td>\n      <td>-34.230386</td>\n      <td>0.0</td>\n      <td>0.0</td>\n      <td>0.0</td>\n      <td>0.0</td>\n      <td>0.0</td>\n    </tr>\n    <tr>\n      <th>15</th>\n      <td>0.546306</td>\n      <td>-43.166593</td>\n      <td>0.0</td>\n      <td>0.0</td>\n      <td>0.0</td>\n      <td>0.0</td>\n      <td>0.0</td>\n    </tr>\n    <tr>\n      <th>16</th>\n      <td>359.186590</td>\n      <td>-48.249022</td>\n      <td>0.0</td>\n      <td>0.0</td>\n      <td>0.0</td>\n      <td>0.0</td>\n      <td>0.0</td>\n    </tr>\n    <tr>\n      <th>17</th>\n      <td>0.497816</td>\n      <td>-49.436266</td>\n      <td>0.0</td>\n      <td>0.0</td>\n      <td>0.0</td>\n      <td>0.0</td>\n      <td>0.0</td>\n    </tr>\n    <tr>\n      <th>18</th>\n      <td>1.194993</td>\n      <td>-55.871398</td>\n      <td>0.0</td>\n      <td>0.0</td>\n      <td>0.0</td>\n      <td>0.0</td>\n      <td>0.0</td>\n    </tr>\n    <tr>\n      <th>19</th>\n      <td>359.655968</td>\n      <td>-55.499753</td>\n      <td>0.0</td>\n      <td>0.0</td>\n      <td>0.0</td>\n      <td>0.0</td>\n      <td>0.0</td>\n    </tr>\n    <tr>\n      <th>24</th>\n      <td>0.643619</td>\n      <td>-59.314673</td>\n      <td>0.0</td>\n      <td>0.0</td>\n      <td>0.0</td>\n      <td>0.0</td>\n      <td>0.0</td>\n    </tr>\n  </tbody>\n</table>\n</div>"
     },
     "metadata": {},
     "execution_count": 48
    }
   ],
   "source": [
    "df_base = pd.read_csv(FILENAME + \"/Final_Output.csv\")\n",
    "df_base = df_base.sort_values(\"distance\",ascending=False).drop_duplicates('upload_ID', keep='last').sort_index()\n",
    "df_base.set_index(\"upload_ID\", inplace=True)\n",
    "df_base.head(20)"
   ]
  },
  {
   "source": [
    "# Write to a csv file"
   ],
   "cell_type": "markdown",
   "metadata": {}
  },
  {
   "cell_type": "code",
   "execution_count": 49,
   "metadata": {},
   "outputs": [],
   "source": [
    "df_base.to_csv(FILENAME + \"/Final_Output_Cleansed.csv\")"
   ]
  }
 ]
}