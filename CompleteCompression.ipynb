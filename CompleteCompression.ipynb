{
 "metadata": {
  "language_info": {
   "codemirror_mode": {
    "name": "ipython",
    "version": 3
   },
   "file_extension": ".py",
   "mimetype": "text/x-python",
   "name": "python",
   "nbconvert_exporter": "python",
   "pygments_lexer": "ipython3",
   "version": "3.7.2-final"
  },
  "orig_nbformat": 2,
  "kernelspec": {
   "name": "python3",
   "display_name": "Python 3.7.2 64-bit",
   "metadata": {
    "interpreter": {
     "hash": "2107dc5a163d7f3f7d3cb65283aa0e4e50d7d24c2ef208f9854b9df550d7f127"
    }
   }
  }
 },
 "nbformat": 4,
 "nbformat_minor": 2,
 "cells": [
  {
   "source": [
    "# Import Pandas"
   ],
   "cell_type": "markdown",
   "metadata": {}
  },
  {
   "cell_type": "code",
   "execution_count": 1,
   "metadata": {},
   "outputs": [],
   "source": [
    "import pandas as pd"
   ]
  },
  {
   "source": [
    "# Load data into a dataframe"
   ],
   "cell_type": "markdown",
   "metadata": {}
  },
  {
   "cell_type": "code",
   "execution_count": 8,
   "metadata": {},
   "outputs": [
    {
     "output_type": "execute_result",
     "data": {
      "text/plain": [
       "           RA        Dec     PmrA    PMDEC  sigPMRA  sigPMDEC  w1mpro_pm  \\\n",
       "0  359.906120  -8.837616  0.12063  0.00614  0.01450    0.0145     15.239   \n",
       "1    0.295146  -9.537763  0.46477 -0.28417  0.09770    0.0943     18.556   \n",
       "2    0.002239 -15.580039 -0.00660  0.26086  0.06524    0.0038      9.416   \n",
       "3  359.610523 -15.882858  0.12830 -0.04228  0.01450    0.0136     14.898   \n",
       "4  359.226041 -15.889380 -0.43102 -0.69168  0.01490    0.0148     15.574   \n",
       "5  359.226267 -15.889004 -0.50104 -0.79827  0.02420    0.0251     16.313   \n",
       "6  359.973032 -28.165985 -0.00670 -0.28520  0.03330    0.0357     17.051   \n",
       "7    0.573095 -29.655268  0.13613 -0.00823  0.00940    0.0087     14.302   \n",
       "8  359.999839 -30.024475  0.32629 -0.30010  0.00990    0.0093     14.405   \n",
       "9    0.392750 -33.211435  0.20955 -0.02961  0.01400    0.0129     15.160   \n",
       "\n",
       "   w1sigmpro_pm  w2mpro_pm  w2sigmpro_pm     2MASSRA   2MASSDEC     j_m  \\\n",
       "0         0.019     14.664         0.022         NaN        NaN     NaN   \n",
       "1         0.200     16.111         0.072         NaN        NaN     NaN   \n",
       "2         0.011      9.222         0.008    0.001162 -15.580398  10.474   \n",
       "3         0.018     14.948         0.034  359.610109 -15.882720  15.785   \n",
       "4         0.028     13.830         0.022  359.228210 -15.886426  15.824   \n",
       "5         0.036     14.551         0.022         NaN        NaN     NaN   \n",
       "6         0.055     15.034         0.031         NaN        NaN     NaN   \n",
       "7         0.014     14.119         0.016    0.572648 -29.655226  15.248   \n",
       "8         0.015     14.196         0.018  359.998365 -30.023087  15.328   \n",
       "9         0.018     14.851         0.025    0.391804 -33.211315  16.067   \n",
       "\n",
       "   j_msigcom     h_m  h_msigcom     k_m  k_msigcom Unnamed: 18  \n",
       "0        NaN     NaN        NaN     NaN        NaN         NaN  \n",
       "1        NaN     NaN        NaN     NaN        NaN         NaN  \n",
       "2     0.0231   9.899     0.0246   9.627     0.0197         NaN  \n",
       "3     0.0671  15.239     0.0718  14.869     0.0926         NaN  \n",
       "4     0.0574  15.630     0.1000  15.771     0.1831         NaN  \n",
       "5        NaN     NaN        NaN     NaN        NaN         NaN  \n",
       "6        NaN     NaN        NaN     NaN        NaN         NaN  \n",
       "7     0.0473  14.687     0.0493  14.408     0.0685         NaN  \n",
       "8     0.0437  14.838     0.0695  14.465     0.0892         NaN  \n",
       "9     0.0953  15.410     0.1307  15.343     0.2074         NaN  "
      ],
      "text/html": "<div>\n<style scoped>\n    .dataframe tbody tr th:only-of-type {\n        vertical-align: middle;\n    }\n\n    .dataframe tbody tr th {\n        vertical-align: top;\n    }\n\n    .dataframe thead th {\n        text-align: right;\n    }\n</style>\n<table border=\"1\" class=\"dataframe\">\n  <thead>\n    <tr style=\"text-align: right;\">\n      <th></th>\n      <th>RA</th>\n      <th>Dec</th>\n      <th>PmrA</th>\n      <th>PMDEC</th>\n      <th>sigPMRA</th>\n      <th>sigPMDEC</th>\n      <th>w1mpro_pm</th>\n      <th>w1sigmpro_pm</th>\n      <th>w2mpro_pm</th>\n      <th>w2sigmpro_pm</th>\n      <th>2MASSRA</th>\n      <th>2MASSDEC</th>\n      <th>j_m</th>\n      <th>j_msigcom</th>\n      <th>h_m</th>\n      <th>h_msigcom</th>\n      <th>k_m</th>\n      <th>k_msigcom</th>\n      <th>Unnamed: 18</th>\n    </tr>\n  </thead>\n  <tbody>\n    <tr>\n      <th>0</th>\n      <td>359.906120</td>\n      <td>-8.837616</td>\n      <td>0.12063</td>\n      <td>0.00614</td>\n      <td>0.01450</td>\n      <td>0.0145</td>\n      <td>15.239</td>\n      <td>0.019</td>\n      <td>14.664</td>\n      <td>0.022</td>\n      <td>NaN</td>\n      <td>NaN</td>\n      <td>NaN</td>\n      <td>NaN</td>\n      <td>NaN</td>\n      <td>NaN</td>\n      <td>NaN</td>\n      <td>NaN</td>\n      <td>NaN</td>\n    </tr>\n    <tr>\n      <th>1</th>\n      <td>0.295146</td>\n      <td>-9.537763</td>\n      <td>0.46477</td>\n      <td>-0.28417</td>\n      <td>0.09770</td>\n      <td>0.0943</td>\n      <td>18.556</td>\n      <td>0.200</td>\n      <td>16.111</td>\n      <td>0.072</td>\n      <td>NaN</td>\n      <td>NaN</td>\n      <td>NaN</td>\n      <td>NaN</td>\n      <td>NaN</td>\n      <td>NaN</td>\n      <td>NaN</td>\n      <td>NaN</td>\n      <td>NaN</td>\n    </tr>\n    <tr>\n      <th>2</th>\n      <td>0.002239</td>\n      <td>-15.580039</td>\n      <td>-0.00660</td>\n      <td>0.26086</td>\n      <td>0.06524</td>\n      <td>0.0038</td>\n      <td>9.416</td>\n      <td>0.011</td>\n      <td>9.222</td>\n      <td>0.008</td>\n      <td>0.001162</td>\n      <td>-15.580398</td>\n      <td>10.474</td>\n      <td>0.0231</td>\n      <td>9.899</td>\n      <td>0.0246</td>\n      <td>9.627</td>\n      <td>0.0197</td>\n      <td>NaN</td>\n    </tr>\n    <tr>\n      <th>3</th>\n      <td>359.610523</td>\n      <td>-15.882858</td>\n      <td>0.12830</td>\n      <td>-0.04228</td>\n      <td>0.01450</td>\n      <td>0.0136</td>\n      <td>14.898</td>\n      <td>0.018</td>\n      <td>14.948</td>\n      <td>0.034</td>\n      <td>359.610109</td>\n      <td>-15.882720</td>\n      <td>15.785</td>\n      <td>0.0671</td>\n      <td>15.239</td>\n      <td>0.0718</td>\n      <td>14.869</td>\n      <td>0.0926</td>\n      <td>NaN</td>\n    </tr>\n    <tr>\n      <th>4</th>\n      <td>359.226041</td>\n      <td>-15.889380</td>\n      <td>-0.43102</td>\n      <td>-0.69168</td>\n      <td>0.01490</td>\n      <td>0.0148</td>\n      <td>15.574</td>\n      <td>0.028</td>\n      <td>13.830</td>\n      <td>0.022</td>\n      <td>359.228210</td>\n      <td>-15.886426</td>\n      <td>15.824</td>\n      <td>0.0574</td>\n      <td>15.630</td>\n      <td>0.1000</td>\n      <td>15.771</td>\n      <td>0.1831</td>\n      <td>NaN</td>\n    </tr>\n    <tr>\n      <th>5</th>\n      <td>359.226267</td>\n      <td>-15.889004</td>\n      <td>-0.50104</td>\n      <td>-0.79827</td>\n      <td>0.02420</td>\n      <td>0.0251</td>\n      <td>16.313</td>\n      <td>0.036</td>\n      <td>14.551</td>\n      <td>0.022</td>\n      <td>NaN</td>\n      <td>NaN</td>\n      <td>NaN</td>\n      <td>NaN</td>\n      <td>NaN</td>\n      <td>NaN</td>\n      <td>NaN</td>\n      <td>NaN</td>\n      <td>NaN</td>\n    </tr>\n    <tr>\n      <th>6</th>\n      <td>359.973032</td>\n      <td>-28.165985</td>\n      <td>-0.00670</td>\n      <td>-0.28520</td>\n      <td>0.03330</td>\n      <td>0.0357</td>\n      <td>17.051</td>\n      <td>0.055</td>\n      <td>15.034</td>\n      <td>0.031</td>\n      <td>NaN</td>\n      <td>NaN</td>\n      <td>NaN</td>\n      <td>NaN</td>\n      <td>NaN</td>\n      <td>NaN</td>\n      <td>NaN</td>\n      <td>NaN</td>\n      <td>NaN</td>\n    </tr>\n    <tr>\n      <th>7</th>\n      <td>0.573095</td>\n      <td>-29.655268</td>\n      <td>0.13613</td>\n      <td>-0.00823</td>\n      <td>0.00940</td>\n      <td>0.0087</td>\n      <td>14.302</td>\n      <td>0.014</td>\n      <td>14.119</td>\n      <td>0.016</td>\n      <td>0.572648</td>\n      <td>-29.655226</td>\n      <td>15.248</td>\n      <td>0.0473</td>\n      <td>14.687</td>\n      <td>0.0493</td>\n      <td>14.408</td>\n      <td>0.0685</td>\n      <td>NaN</td>\n    </tr>\n    <tr>\n      <th>8</th>\n      <td>359.999839</td>\n      <td>-30.024475</td>\n      <td>0.32629</td>\n      <td>-0.30010</td>\n      <td>0.00990</td>\n      <td>0.0093</td>\n      <td>14.405</td>\n      <td>0.015</td>\n      <td>14.196</td>\n      <td>0.018</td>\n      <td>359.998365</td>\n      <td>-30.023087</td>\n      <td>15.328</td>\n      <td>0.0437</td>\n      <td>14.838</td>\n      <td>0.0695</td>\n      <td>14.465</td>\n      <td>0.0892</td>\n      <td>NaN</td>\n    </tr>\n    <tr>\n      <th>9</th>\n      <td>0.392750</td>\n      <td>-33.211435</td>\n      <td>0.20955</td>\n      <td>-0.02961</td>\n      <td>0.01400</td>\n      <td>0.0129</td>\n      <td>15.160</td>\n      <td>0.018</td>\n      <td>14.851</td>\n      <td>0.025</td>\n      <td>0.391804</td>\n      <td>-33.211315</td>\n      <td>16.067</td>\n      <td>0.0953</td>\n      <td>15.410</td>\n      <td>0.1307</td>\n      <td>15.343</td>\n      <td>0.2074</td>\n      <td>NaN</td>\n    </tr>\n  </tbody>\n</table>\n</div>"
     },
     "metadata": {},
     "execution_count": 8
    }
   ],
   "source": [
    "BASE = \"VHSResultspart2.csv\"\n",
    "EXTRA = \"MarksData.csv\"\n",
    "df_base = pd.read_csv(BASE)\n",
    "df_base.head(10)\n",
    "df_extra = pd.read_csv(EXTRA)\n",
    "df_extra.head(10)"
   ]
  },
  {
   "source": [
    "# Change indexing for Base to \"upload_ID\""
   ],
   "cell_type": "markdown",
   "metadata": {}
  },
  {
   "cell_type": "code",
   "execution_count": 9,
   "metadata": {},
   "outputs": [
    {
     "output_type": "execute_result",
     "data": {
      "text/plain": [
       "            upload_RA  upload_Dec  distance          ra        dec  \\\n",
       "upload_ID                                                            \n",
       "3001       161.571524   23.245712  0.000000    0.000000   0.000000   \n",
       "3002       160.257508   58.709567  0.000000    0.000000   0.000000   \n",
       "3003       161.682714  -12.928465  0.594142  161.682833 -12.928348   \n",
       "3004       161.190842  -14.215406  3.511899  161.191345 -14.216251   \n",
       "3004       161.190842  -14.215406  0.212768  161.190823 -14.215462   \n",
       "\n",
       "              jAperMag3  jAperMag3Err  hAperMag3  hAperMag3Err  ksAperMag3  \\\n",
       "upload_ID                                                                    \n",
       "3001       0.000000e+00  0.000000e+00   0.000000      0.000000    0.000000   \n",
       "3002       0.000000e+00  0.000000e+00   0.000000      0.000000    0.000000   \n",
       "3003       1.506188e+01  3.817000e-03  14.598412      0.004560   14.387593   \n",
       "3004       1.561598e+01  5.551000e-03  15.124837      0.008234   14.885620   \n",
       "3004      -9.999995e+08 -9.999995e+08  18.881853      0.235797   17.657999   \n",
       "\n",
       "           ksAperMag3Err  \n",
       "upload_ID                 \n",
       "3001            0.000000  \n",
       "3002            0.000000  \n",
       "3003            0.008975  \n",
       "3004            0.012634  \n",
       "3004            0.151787  "
      ],
      "text/html": "<div>\n<style scoped>\n    .dataframe tbody tr th:only-of-type {\n        vertical-align: middle;\n    }\n\n    .dataframe tbody tr th {\n        vertical-align: top;\n    }\n\n    .dataframe thead th {\n        text-align: right;\n    }\n</style>\n<table border=\"1\" class=\"dataframe\">\n  <thead>\n    <tr style=\"text-align: right;\">\n      <th></th>\n      <th>upload_RA</th>\n      <th>upload_Dec</th>\n      <th>distance</th>\n      <th>ra</th>\n      <th>dec</th>\n      <th>jAperMag3</th>\n      <th>jAperMag3Err</th>\n      <th>hAperMag3</th>\n      <th>hAperMag3Err</th>\n      <th>ksAperMag3</th>\n      <th>ksAperMag3Err</th>\n    </tr>\n    <tr>\n      <th>upload_ID</th>\n      <th></th>\n      <th></th>\n      <th></th>\n      <th></th>\n      <th></th>\n      <th></th>\n      <th></th>\n      <th></th>\n      <th></th>\n      <th></th>\n      <th></th>\n    </tr>\n  </thead>\n  <tbody>\n    <tr>\n      <th>3001</th>\n      <td>161.571524</td>\n      <td>23.245712</td>\n      <td>0.000000</td>\n      <td>0.000000</td>\n      <td>0.000000</td>\n      <td>0.000000e+00</td>\n      <td>0.000000e+00</td>\n      <td>0.000000</td>\n      <td>0.000000</td>\n      <td>0.000000</td>\n      <td>0.000000</td>\n    </tr>\n    <tr>\n      <th>3002</th>\n      <td>160.257508</td>\n      <td>58.709567</td>\n      <td>0.000000</td>\n      <td>0.000000</td>\n      <td>0.000000</td>\n      <td>0.000000e+00</td>\n      <td>0.000000e+00</td>\n      <td>0.000000</td>\n      <td>0.000000</td>\n      <td>0.000000</td>\n      <td>0.000000</td>\n    </tr>\n    <tr>\n      <th>3003</th>\n      <td>161.682714</td>\n      <td>-12.928465</td>\n      <td>0.594142</td>\n      <td>161.682833</td>\n      <td>-12.928348</td>\n      <td>1.506188e+01</td>\n      <td>3.817000e-03</td>\n      <td>14.598412</td>\n      <td>0.004560</td>\n      <td>14.387593</td>\n      <td>0.008975</td>\n    </tr>\n    <tr>\n      <th>3004</th>\n      <td>161.190842</td>\n      <td>-14.215406</td>\n      <td>3.511899</td>\n      <td>161.191345</td>\n      <td>-14.216251</td>\n      <td>1.561598e+01</td>\n      <td>5.551000e-03</td>\n      <td>15.124837</td>\n      <td>0.008234</td>\n      <td>14.885620</td>\n      <td>0.012634</td>\n    </tr>\n    <tr>\n      <th>3004</th>\n      <td>161.190842</td>\n      <td>-14.215406</td>\n      <td>0.212768</td>\n      <td>161.190823</td>\n      <td>-14.215462</td>\n      <td>-9.999995e+08</td>\n      <td>-9.999995e+08</td>\n      <td>18.881853</td>\n      <td>0.235797</td>\n      <td>17.657999</td>\n      <td>0.151787</td>\n    </tr>\n  </tbody>\n</table>\n</div>"
     },
     "metadata": {},
     "execution_count": 9
    }
   ],
   "source": [
    "df_base.set_index('upload_ID', inplace=True)\n",
    "df_base.head(5)"
   ]
  },
  {
   "cell_type": "code",
   "execution_count": 10,
   "metadata": {},
   "outputs": [
    {
     "output_type": "execute_result",
     "data": {
      "text/plain": [
       "       upload_RA  upload_Dec  distance          ra        dec     jAperMag3  \\\n",
       "3001  161.571524   23.245712  0.000000    0.000000   0.000000  0.000000e+00   \n",
       "3002  160.257508   58.709567  0.000000    0.000000   0.000000  0.000000e+00   \n",
       "3003  161.682714  -12.928465  0.594142  161.682833 -12.928348  1.506188e+01   \n",
       "3004  161.190842  -14.215406  3.511899  161.191345 -14.216251  1.561598e+01   \n",
       "3004  161.190842  -14.215406  0.212768  161.190823 -14.215462 -9.999995e+08   \n",
       "...          ...         ...       ...         ...        ...           ...   \n",
       "6036  358.299761   26.307183  0.000000    0.000000   0.000000  0.000000e+00   \n",
       "6037  358.371145  -17.903664  0.000000    0.000000   0.000000  0.000000e+00   \n",
       "6038  357.876831  -18.966801  0.000000    0.000000   0.000000  0.000000e+00   \n",
       "6039  358.403760    0.791407  1.527268  358.403790   0.791830  1.582294e+01   \n",
       "6040  358.512101    2.670170  0.000000    0.000000   0.000000  0.000000e+00   \n",
       "\n",
       "      jAperMag3Err  hAperMag3  hAperMag3Err  ksAperMag3  ...          RA  \\\n",
       "3001  0.000000e+00   0.000000      0.000000    0.000000  ...  161.190778   \n",
       "3002  0.000000e+00   0.000000      0.000000    0.000000  ...  161.014366   \n",
       "3003  3.817000e-03  14.598412      0.004560   14.387593  ...  161.965701   \n",
       "3004  5.551000e-03  15.124837      0.008234   14.885620  ...  161.239030   \n",
       "3004 -9.999995e+08  18.881853      0.235797   17.657999  ...  161.239030   \n",
       "...            ...        ...           ...         ...  ...         ...   \n",
       "6036  0.000000e+00   0.000000      0.000000    0.000000  ...  358.403751   \n",
       "6037  0.000000e+00   0.000000      0.000000    0.000000  ...  358.512230   \n",
       "6038  0.000000e+00   0.000000      0.000000    0.000000  ...         NaN   \n",
       "6039  7.867000e-03  15.398849      0.010720   15.151157  ...         NaN   \n",
       "6040  0.000000e+00   0.000000      0.000000    0.000000  ...         NaN   \n",
       "\n",
       "            Dec     PmrA    PMDEC  sigPMRA  sigPMDEC  w1mpro_pm  w1sigmpro_pm  \\\n",
       "3001 -14.215406 -0.22120  0.06932   0.0274    0.0328     15.966         0.032   \n",
       "3002  21.085864 -0.14550  0.03600   0.0144    0.0162     15.302         0.019   \n",
       "3003  21.404147 -2.24746 -0.70053   0.0265    0.0277     15.816         0.024   \n",
       "3004  -6.981401 -0.36415 -0.11905   0.0136    0.0145     15.073         0.018   \n",
       "3004  -6.981401 -0.36415 -0.11905   0.0136    0.0145     15.073         0.018   \n",
       "...         ...      ...      ...      ...       ...        ...           ...   \n",
       "6036   0.791407 -0.03157 -0.39380   0.0147    0.0145     14.986         0.017   \n",
       "6037   2.670170  0.46340 -0.48928   0.0381    0.0389     18.053         0.142   \n",
       "6038        NaN      NaN      NaN      NaN       NaN        NaN           NaN   \n",
       "6039        NaN      NaN      NaN      NaN       NaN        NaN           NaN   \n",
       "6040        NaN      NaN      NaN      NaN       NaN        NaN           NaN   \n",
       "\n",
       "      w2mpro_pm  w2sigmpro_pm  \n",
       "3001     15.179         0.037  \n",
       "3002     15.208         0.032  \n",
       "3003     13.530         0.012  \n",
       "3004     14.917         0.028  \n",
       "3004     14.917         0.028  \n",
       "...         ...           ...  \n",
       "6036     14.803         0.026  \n",
       "6037     15.018         0.030  \n",
       "6038        NaN           NaN  \n",
       "6039        NaN           NaN  \n",
       "6040        NaN           NaN  \n",
       "\n",
       "[5149 rows x 21 columns]"
      ],
      "text/html": "<div>\n<style scoped>\n    .dataframe tbody tr th:only-of-type {\n        vertical-align: middle;\n    }\n\n    .dataframe tbody tr th {\n        vertical-align: top;\n    }\n\n    .dataframe thead th {\n        text-align: right;\n    }\n</style>\n<table border=\"1\" class=\"dataframe\">\n  <thead>\n    <tr style=\"text-align: right;\">\n      <th></th>\n      <th>upload_RA</th>\n      <th>upload_Dec</th>\n      <th>distance</th>\n      <th>ra</th>\n      <th>dec</th>\n      <th>jAperMag3</th>\n      <th>jAperMag3Err</th>\n      <th>hAperMag3</th>\n      <th>hAperMag3Err</th>\n      <th>ksAperMag3</th>\n      <th>...</th>\n      <th>RA</th>\n      <th>Dec</th>\n      <th>PmrA</th>\n      <th>PMDEC</th>\n      <th>sigPMRA</th>\n      <th>sigPMDEC</th>\n      <th>w1mpro_pm</th>\n      <th>w1sigmpro_pm</th>\n      <th>w2mpro_pm</th>\n      <th>w2sigmpro_pm</th>\n    </tr>\n  </thead>\n  <tbody>\n    <tr>\n      <th>3001</th>\n      <td>161.571524</td>\n      <td>23.245712</td>\n      <td>0.000000</td>\n      <td>0.000000</td>\n      <td>0.000000</td>\n      <td>0.000000e+00</td>\n      <td>0.000000e+00</td>\n      <td>0.000000</td>\n      <td>0.000000</td>\n      <td>0.000000</td>\n      <td>...</td>\n      <td>161.190778</td>\n      <td>-14.215406</td>\n      <td>-0.22120</td>\n      <td>0.06932</td>\n      <td>0.0274</td>\n      <td>0.0328</td>\n      <td>15.966</td>\n      <td>0.032</td>\n      <td>15.179</td>\n      <td>0.037</td>\n    </tr>\n    <tr>\n      <th>3002</th>\n      <td>160.257508</td>\n      <td>58.709567</td>\n      <td>0.000000</td>\n      <td>0.000000</td>\n      <td>0.000000</td>\n      <td>0.000000e+00</td>\n      <td>0.000000e+00</td>\n      <td>0.000000</td>\n      <td>0.000000</td>\n      <td>0.000000</td>\n      <td>...</td>\n      <td>161.014366</td>\n      <td>21.085864</td>\n      <td>-0.14550</td>\n      <td>0.03600</td>\n      <td>0.0144</td>\n      <td>0.0162</td>\n      <td>15.302</td>\n      <td>0.019</td>\n      <td>15.208</td>\n      <td>0.032</td>\n    </tr>\n    <tr>\n      <th>3003</th>\n      <td>161.682714</td>\n      <td>-12.928465</td>\n      <td>0.594142</td>\n      <td>161.682833</td>\n      <td>-12.928348</td>\n      <td>1.506188e+01</td>\n      <td>3.817000e-03</td>\n      <td>14.598412</td>\n      <td>0.004560</td>\n      <td>14.387593</td>\n      <td>...</td>\n      <td>161.965701</td>\n      <td>21.404147</td>\n      <td>-2.24746</td>\n      <td>-0.70053</td>\n      <td>0.0265</td>\n      <td>0.0277</td>\n      <td>15.816</td>\n      <td>0.024</td>\n      <td>13.530</td>\n      <td>0.012</td>\n    </tr>\n    <tr>\n      <th>3004</th>\n      <td>161.190842</td>\n      <td>-14.215406</td>\n      <td>3.511899</td>\n      <td>161.191345</td>\n      <td>-14.216251</td>\n      <td>1.561598e+01</td>\n      <td>5.551000e-03</td>\n      <td>15.124837</td>\n      <td>0.008234</td>\n      <td>14.885620</td>\n      <td>...</td>\n      <td>161.239030</td>\n      <td>-6.981401</td>\n      <td>-0.36415</td>\n      <td>-0.11905</td>\n      <td>0.0136</td>\n      <td>0.0145</td>\n      <td>15.073</td>\n      <td>0.018</td>\n      <td>14.917</td>\n      <td>0.028</td>\n    </tr>\n    <tr>\n      <th>3004</th>\n      <td>161.190842</td>\n      <td>-14.215406</td>\n      <td>0.212768</td>\n      <td>161.190823</td>\n      <td>-14.215462</td>\n      <td>-9.999995e+08</td>\n      <td>-9.999995e+08</td>\n      <td>18.881853</td>\n      <td>0.235797</td>\n      <td>17.657999</td>\n      <td>...</td>\n      <td>161.239030</td>\n      <td>-6.981401</td>\n      <td>-0.36415</td>\n      <td>-0.11905</td>\n      <td>0.0136</td>\n      <td>0.0145</td>\n      <td>15.073</td>\n      <td>0.018</td>\n      <td>14.917</td>\n      <td>0.028</td>\n    </tr>\n    <tr>\n      <th>...</th>\n      <td>...</td>\n      <td>...</td>\n      <td>...</td>\n      <td>...</td>\n      <td>...</td>\n      <td>...</td>\n      <td>...</td>\n      <td>...</td>\n      <td>...</td>\n      <td>...</td>\n      <td>...</td>\n      <td>...</td>\n      <td>...</td>\n      <td>...</td>\n      <td>...</td>\n      <td>...</td>\n      <td>...</td>\n      <td>...</td>\n      <td>...</td>\n      <td>...</td>\n      <td>...</td>\n    </tr>\n    <tr>\n      <th>6036</th>\n      <td>358.299761</td>\n      <td>26.307183</td>\n      <td>0.000000</td>\n      <td>0.000000</td>\n      <td>0.000000</td>\n      <td>0.000000e+00</td>\n      <td>0.000000e+00</td>\n      <td>0.000000</td>\n      <td>0.000000</td>\n      <td>0.000000</td>\n      <td>...</td>\n      <td>358.403751</td>\n      <td>0.791407</td>\n      <td>-0.03157</td>\n      <td>-0.39380</td>\n      <td>0.0147</td>\n      <td>0.0145</td>\n      <td>14.986</td>\n      <td>0.017</td>\n      <td>14.803</td>\n      <td>0.026</td>\n    </tr>\n    <tr>\n      <th>6037</th>\n      <td>358.371145</td>\n      <td>-17.903664</td>\n      <td>0.000000</td>\n      <td>0.000000</td>\n      <td>0.000000</td>\n      <td>0.000000e+00</td>\n      <td>0.000000e+00</td>\n      <td>0.000000</td>\n      <td>0.000000</td>\n      <td>0.000000</td>\n      <td>...</td>\n      <td>358.512230</td>\n      <td>2.670170</td>\n      <td>0.46340</td>\n      <td>-0.48928</td>\n      <td>0.0381</td>\n      <td>0.0389</td>\n      <td>18.053</td>\n      <td>0.142</td>\n      <td>15.018</td>\n      <td>0.030</td>\n    </tr>\n    <tr>\n      <th>6038</th>\n      <td>357.876831</td>\n      <td>-18.966801</td>\n      <td>0.000000</td>\n      <td>0.000000</td>\n      <td>0.000000</td>\n      <td>0.000000e+00</td>\n      <td>0.000000e+00</td>\n      <td>0.000000</td>\n      <td>0.000000</td>\n      <td>0.000000</td>\n      <td>...</td>\n      <td>NaN</td>\n      <td>NaN</td>\n      <td>NaN</td>\n      <td>NaN</td>\n      <td>NaN</td>\n      <td>NaN</td>\n      <td>NaN</td>\n      <td>NaN</td>\n      <td>NaN</td>\n      <td>NaN</td>\n    </tr>\n    <tr>\n      <th>6039</th>\n      <td>358.403760</td>\n      <td>0.791407</td>\n      <td>1.527268</td>\n      <td>358.403790</td>\n      <td>0.791830</td>\n      <td>1.582294e+01</td>\n      <td>7.867000e-03</td>\n      <td>15.398849</td>\n      <td>0.010720</td>\n      <td>15.151157</td>\n      <td>...</td>\n      <td>NaN</td>\n      <td>NaN</td>\n      <td>NaN</td>\n      <td>NaN</td>\n      <td>NaN</td>\n      <td>NaN</td>\n      <td>NaN</td>\n      <td>NaN</td>\n      <td>NaN</td>\n      <td>NaN</td>\n    </tr>\n    <tr>\n      <th>6040</th>\n      <td>358.512101</td>\n      <td>2.670170</td>\n      <td>0.000000</td>\n      <td>0.000000</td>\n      <td>0.000000</td>\n      <td>0.000000e+00</td>\n      <td>0.000000e+00</td>\n      <td>0.000000</td>\n      <td>0.000000</td>\n      <td>0.000000</td>\n      <td>...</td>\n      <td>NaN</td>\n      <td>NaN</td>\n      <td>NaN</td>\n      <td>NaN</td>\n      <td>NaN</td>\n      <td>NaN</td>\n      <td>NaN</td>\n      <td>NaN</td>\n      <td>NaN</td>\n      <td>NaN</td>\n    </tr>\n  </tbody>\n</table>\n<p>5149 rows × 21 columns</p>\n</div>"
     },
     "metadata": {},
     "execution_count": 10
    }
   ],
   "source": [
    "df_base.join(df_extra).iloc[: , :21]"
   ]
  },
  {
   "cell_type": "code",
   "execution_count": null,
   "metadata": {},
   "outputs": [],
   "source": []
  }
 ]
}