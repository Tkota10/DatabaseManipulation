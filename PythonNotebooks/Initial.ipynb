{
 "metadata": {
  "language_info": {
   "codemirror_mode": {
    "name": "ipython",
    "version": 3
   },
   "file_extension": ".py",
   "mimetype": "text/x-python",
   "name": "python",
   "nbconvert_exporter": "python",
   "pygments_lexer": "ipython3",
   "version": "3.7.2-final"
  },
  "orig_nbformat": 2,
  "kernelspec": {
   "name": "python3",
   "display_name": "Python 3.7.2 64-bit",
   "metadata": {
    "interpreter": {
     "hash": "2107dc5a163d7f3f7d3cb65283aa0e4e50d7d24c2ef208f9854b9df550d7f127"
    }
   }
  }
 },
 "nbformat": 4,
 "nbformat_minor": 2,
 "cells": [
  {
   "cell_type": "code",
   "execution_count": 1,
   "metadata": {},
   "outputs": [],
   "source": [
    "import pandas as pd"
   ]
  },
  {
   "cell_type": "code",
   "execution_count": 3,
   "metadata": {},
   "outputs": [
    {
     "output_type": "execute_result",
     "data": {
      "text/plain": [
       "           RA          Dec     PmrA    PMDEC  sigPMRA  sigPMDEC  w1mpro_pm  \\\n",
       "0  359.906120   -8.8376156  0.12063  0.00614  0.01450    0.0145     15.239   \n",
       "1    0.295146   -9.5377627  0.46477 -0.28417  0.09770    0.0943     18.556   \n",
       "2    0.002239  -15.5800395 -0.00660  0.26086  0.06524    0.0038      9.416   \n",
       "3  359.610523  -15.8828579  0.12830 -0.04228  0.01450    0.0136     14.898   \n",
       "4  359.226041  -15.8893802 -0.43102 -0.69168  0.01490    0.0148     15.574   \n",
       "5  359.226267  -15.8890041 -0.50104 -0.79827  0.02420    0.0251     16.313   \n",
       "6  359.973032   -28.165985 -0.00670 -0.28520  0.03330    0.0357     17.051   \n",
       "7    0.573095  -29.6552676  0.13613 -0.00823  0.00940    0.0087     14.302   \n",
       "8  359.999839  -30.0244753  0.32629 -0.30010  0.00990    0.0093     14.405   \n",
       "9    0.392750  -33.2114349  0.20955 -0.02961  0.01400    0.0129     15.160   \n",
       "\n",
       "   w1sigmpro_pm  w2mpro_pm  w2sigmpro_pm     2MASSRA   2MASSDEC     j_m  \\\n",
       "0         0.019     14.664         0.022         NaN        NaN     NaN   \n",
       "1         0.200     16.111         0.072         NaN        NaN     NaN   \n",
       "2         0.011      9.222         0.008    0.001162 -15.580398  10.474   \n",
       "3         0.018     14.948         0.034  359.610109 -15.882720  15.785   \n",
       "4         0.028     13.830         0.022  359.228210 -15.886426  15.824   \n",
       "5         0.036     14.551         0.022         NaN        NaN     NaN   \n",
       "6         0.055     15.034         0.031         NaN        NaN     NaN   \n",
       "7         0.014     14.119         0.016    0.572648 -29.655226  15.248   \n",
       "8         0.015     14.196         0.018  359.998365 -30.023087  15.328   \n",
       "9         0.018     14.851         0.025    0.391804 -33.211315  16.067   \n",
       "\n",
       "   j_msigcom     h_m  h_msigcom     k_m  k_msigcom Unnamed: 18  \n",
       "0        NaN     NaN        NaN     NaN        NaN         NaN  \n",
       "1        NaN     NaN        NaN     NaN        NaN         NaN  \n",
       "2     0.0231   9.899     0.0246   9.627     0.0197         NaN  \n",
       "3     0.0671  15.239     0.0718  14.869     0.0926         NaN  \n",
       "4     0.0574  15.630     0.1000  15.771     0.1831         NaN  \n",
       "5        NaN     NaN        NaN     NaN        NaN         NaN  \n",
       "6        NaN     NaN        NaN     NaN        NaN         NaN  \n",
       "7     0.0473  14.687     0.0493  14.408     0.0685         NaN  \n",
       "8     0.0437  14.838     0.0695  14.465     0.0892         NaN  \n",
       "9     0.0953  15.410     0.1307  15.343     0.2074         NaN  "
      ],
      "text/html": "<div>\n<style scoped>\n    .dataframe tbody tr th:only-of-type {\n        vertical-align: middle;\n    }\n\n    .dataframe tbody tr th {\n        vertical-align: top;\n    }\n\n    .dataframe thead th {\n        text-align: right;\n    }\n</style>\n<table border=\"1\" class=\"dataframe\">\n  <thead>\n    <tr style=\"text-align: right;\">\n      <th></th>\n      <th>RA</th>\n      <th>Dec</th>\n      <th>PmrA</th>\n      <th>PMDEC</th>\n      <th>sigPMRA</th>\n      <th>sigPMDEC</th>\n      <th>w1mpro_pm</th>\n      <th>w1sigmpro_pm</th>\n      <th>w2mpro_pm</th>\n      <th>w2sigmpro_pm</th>\n      <th>2MASSRA</th>\n      <th>2MASSDEC</th>\n      <th>j_m</th>\n      <th>j_msigcom</th>\n      <th>h_m</th>\n      <th>h_msigcom</th>\n      <th>k_m</th>\n      <th>k_msigcom</th>\n      <th>Unnamed: 18</th>\n    </tr>\n  </thead>\n  <tbody>\n    <tr>\n      <th>0</th>\n      <td>359.906120</td>\n      <td>-8.8376156</td>\n      <td>0.12063</td>\n      <td>0.00614</td>\n      <td>0.01450</td>\n      <td>0.0145</td>\n      <td>15.239</td>\n      <td>0.019</td>\n      <td>14.664</td>\n      <td>0.022</td>\n      <td>NaN</td>\n      <td>NaN</td>\n      <td>NaN</td>\n      <td>NaN</td>\n      <td>NaN</td>\n      <td>NaN</td>\n      <td>NaN</td>\n      <td>NaN</td>\n      <td>NaN</td>\n    </tr>\n    <tr>\n      <th>1</th>\n      <td>0.295146</td>\n      <td>-9.5377627</td>\n      <td>0.46477</td>\n      <td>-0.28417</td>\n      <td>0.09770</td>\n      <td>0.0943</td>\n      <td>18.556</td>\n      <td>0.200</td>\n      <td>16.111</td>\n      <td>0.072</td>\n      <td>NaN</td>\n      <td>NaN</td>\n      <td>NaN</td>\n      <td>NaN</td>\n      <td>NaN</td>\n      <td>NaN</td>\n      <td>NaN</td>\n      <td>NaN</td>\n      <td>NaN</td>\n    </tr>\n    <tr>\n      <th>2</th>\n      <td>0.002239</td>\n      <td>-15.5800395</td>\n      <td>-0.00660</td>\n      <td>0.26086</td>\n      <td>0.06524</td>\n      <td>0.0038</td>\n      <td>9.416</td>\n      <td>0.011</td>\n      <td>9.222</td>\n      <td>0.008</td>\n      <td>0.001162</td>\n      <td>-15.580398</td>\n      <td>10.474</td>\n      <td>0.0231</td>\n      <td>9.899</td>\n      <td>0.0246</td>\n      <td>9.627</td>\n      <td>0.0197</td>\n      <td>NaN</td>\n    </tr>\n    <tr>\n      <th>3</th>\n      <td>359.610523</td>\n      <td>-15.8828579</td>\n      <td>0.12830</td>\n      <td>-0.04228</td>\n      <td>0.01450</td>\n      <td>0.0136</td>\n      <td>14.898</td>\n      <td>0.018</td>\n      <td>14.948</td>\n      <td>0.034</td>\n      <td>359.610109</td>\n      <td>-15.882720</td>\n      <td>15.785</td>\n      <td>0.0671</td>\n      <td>15.239</td>\n      <td>0.0718</td>\n      <td>14.869</td>\n      <td>0.0926</td>\n      <td>NaN</td>\n    </tr>\n    <tr>\n      <th>4</th>\n      <td>359.226041</td>\n      <td>-15.8893802</td>\n      <td>-0.43102</td>\n      <td>-0.69168</td>\n      <td>0.01490</td>\n      <td>0.0148</td>\n      <td>15.574</td>\n      <td>0.028</td>\n      <td>13.830</td>\n      <td>0.022</td>\n      <td>359.228210</td>\n      <td>-15.886426</td>\n      <td>15.824</td>\n      <td>0.0574</td>\n      <td>15.630</td>\n      <td>0.1000</td>\n      <td>15.771</td>\n      <td>0.1831</td>\n      <td>NaN</td>\n    </tr>\n    <tr>\n      <th>5</th>\n      <td>359.226267</td>\n      <td>-15.8890041</td>\n      <td>-0.50104</td>\n      <td>-0.79827</td>\n      <td>0.02420</td>\n      <td>0.0251</td>\n      <td>16.313</td>\n      <td>0.036</td>\n      <td>14.551</td>\n      <td>0.022</td>\n      <td>NaN</td>\n      <td>NaN</td>\n      <td>NaN</td>\n      <td>NaN</td>\n      <td>NaN</td>\n      <td>NaN</td>\n      <td>NaN</td>\n      <td>NaN</td>\n      <td>NaN</td>\n    </tr>\n    <tr>\n      <th>6</th>\n      <td>359.973032</td>\n      <td>-28.165985</td>\n      <td>-0.00670</td>\n      <td>-0.28520</td>\n      <td>0.03330</td>\n      <td>0.0357</td>\n      <td>17.051</td>\n      <td>0.055</td>\n      <td>15.034</td>\n      <td>0.031</td>\n      <td>NaN</td>\n      <td>NaN</td>\n      <td>NaN</td>\n      <td>NaN</td>\n      <td>NaN</td>\n      <td>NaN</td>\n      <td>NaN</td>\n      <td>NaN</td>\n      <td>NaN</td>\n    </tr>\n    <tr>\n      <th>7</th>\n      <td>0.573095</td>\n      <td>-29.6552676</td>\n      <td>0.13613</td>\n      <td>-0.00823</td>\n      <td>0.00940</td>\n      <td>0.0087</td>\n      <td>14.302</td>\n      <td>0.014</td>\n      <td>14.119</td>\n      <td>0.016</td>\n      <td>0.572648</td>\n      <td>-29.655226</td>\n      <td>15.248</td>\n      <td>0.0473</td>\n      <td>14.687</td>\n      <td>0.0493</td>\n      <td>14.408</td>\n      <td>0.0685</td>\n      <td>NaN</td>\n    </tr>\n    <tr>\n      <th>8</th>\n      <td>359.999839</td>\n      <td>-30.0244753</td>\n      <td>0.32629</td>\n      <td>-0.30010</td>\n      <td>0.00990</td>\n      <td>0.0093</td>\n      <td>14.405</td>\n      <td>0.015</td>\n      <td>14.196</td>\n      <td>0.018</td>\n      <td>359.998365</td>\n      <td>-30.023087</td>\n      <td>15.328</td>\n      <td>0.0437</td>\n      <td>14.838</td>\n      <td>0.0695</td>\n      <td>14.465</td>\n      <td>0.0892</td>\n      <td>NaN</td>\n    </tr>\n    <tr>\n      <th>9</th>\n      <td>0.392750</td>\n      <td>-33.2114349</td>\n      <td>0.20955</td>\n      <td>-0.02961</td>\n      <td>0.01400</td>\n      <td>0.0129</td>\n      <td>15.160</td>\n      <td>0.018</td>\n      <td>14.851</td>\n      <td>0.025</td>\n      <td>0.391804</td>\n      <td>-33.211315</td>\n      <td>16.067</td>\n      <td>0.0953</td>\n      <td>15.410</td>\n      <td>0.1307</td>\n      <td>15.343</td>\n      <td>0.2074</td>\n      <td>NaN</td>\n    </tr>\n  </tbody>\n</table>\n</div>"
     },
     "metadata": {},
     "execution_count": 3
    }
   ],
   "source": [
    "MarksDF = pd.read_csv(\"MarksData.csv\")\n",
    "MarksDF.head(10)"
   ]
  },
  {
   "cell_type": "code",
   "execution_count": 4,
   "metadata": {},
   "outputs": [
    {
     "output_type": "execute_result",
     "data": {
      "text/plain": [
       "   upload_ID   upload_RA  upload_Dec  distance          ra        dec  \\\n",
       "0          1  359.906087   -8.837616  0.000000    0.000000   0.000000   \n",
       "1          2    0.295015   -9.537763  0.000000    0.000000   0.000000   \n",
       "2          3    0.002241  -15.580039  9.649282    0.004957 -15.579455   \n",
       "3          3    0.002241  -15.580039  0.404487    0.002133 -15.580083   \n",
       "4          4  359.610486  -15.882858  3.573147  359.611450 -15.883210   \n",
       "5          4  359.610486  -15.882858  0.423273  359.610505 -15.882742   \n",
       "6          4  359.610486  -15.882858  0.413641  359.610503 -15.882744   \n",
       "7          5  359.226165  -15.889380  1.269902  359.226251 -15.889037   \n",
       "8          6  359.226411  -15.889004  0.567500  359.226251 -15.889037   \n",
       "9          7  359.973034  -28.165985  0.000000    0.000000   0.000000   \n",
       "\n",
       "      jAperMag3  jAperMag3Err    hAperMag3  hAperMag3Err    ksAperMag3  \\\n",
       "0  0.000000e+00  0.000000e+00          0.0           0.0  0.000000e+00   \n",
       "1  0.000000e+00  0.000000e+00          0.0           0.0  0.000000e+00   \n",
       "2 -9.999995e+08 -9.999995e+08 -999999500.0  -999999500.0 -9.999995e+08   \n",
       "3  1.149198e+01  5.380000e-04 -999999500.0  -999999500.0  1.083459e+01   \n",
       "4 -9.999995e+08 -9.999995e+08 -999999500.0  -999999500.0 -9.999995e+08   \n",
       "5  1.578891e+01  5.764000e-03 -999999500.0  -999999500.0  1.513597e+01   \n",
       "6  1.577141e+01  6.164000e-03 -999999500.0  -999999500.0  1.513906e+01   \n",
       "7  1.555775e+01  4.861000e-03 -999999500.0  -999999500.0  1.556638e+01   \n",
       "8  1.555775e+01  4.861000e-03 -999999500.0  -999999500.0  1.556638e+01   \n",
       "9  0.000000e+00  0.000000e+00          0.0           0.0  0.000000e+00   \n",
       "\n",
       "   ksAperMag3Err  \n",
       "0   0.000000e+00  \n",
       "1   0.000000e+00  \n",
       "2  -9.999995e+08  \n",
       "3   7.280000e-04  \n",
       "4  -9.999995e+08  \n",
       "5   1.187300e-02  \n",
       "6   1.169700e-02  \n",
       "7   1.702500e-02  \n",
       "8   1.702500e-02  \n",
       "9   0.000000e+00  "
      ],
      "text/html": "<div>\n<style scoped>\n    .dataframe tbody tr th:only-of-type {\n        vertical-align: middle;\n    }\n\n    .dataframe tbody tr th {\n        vertical-align: top;\n    }\n\n    .dataframe thead th {\n        text-align: right;\n    }\n</style>\n<table border=\"1\" class=\"dataframe\">\n  <thead>\n    <tr style=\"text-align: right;\">\n      <th></th>\n      <th>upload_ID</th>\n      <th>upload_RA</th>\n      <th>upload_Dec</th>\n      <th>distance</th>\n      <th>ra</th>\n      <th>dec</th>\n      <th>jAperMag3</th>\n      <th>jAperMag3Err</th>\n      <th>hAperMag3</th>\n      <th>hAperMag3Err</th>\n      <th>ksAperMag3</th>\n      <th>ksAperMag3Err</th>\n    </tr>\n  </thead>\n  <tbody>\n    <tr>\n      <th>0</th>\n      <td>1</td>\n      <td>359.906087</td>\n      <td>-8.837616</td>\n      <td>0.000000</td>\n      <td>0.000000</td>\n      <td>0.000000</td>\n      <td>0.000000e+00</td>\n      <td>0.000000e+00</td>\n      <td>0.0</td>\n      <td>0.0</td>\n      <td>0.000000e+00</td>\n      <td>0.000000e+00</td>\n    </tr>\n    <tr>\n      <th>1</th>\n      <td>2</td>\n      <td>0.295015</td>\n      <td>-9.537763</td>\n      <td>0.000000</td>\n      <td>0.000000</td>\n      <td>0.000000</td>\n      <td>0.000000e+00</td>\n      <td>0.000000e+00</td>\n      <td>0.0</td>\n      <td>0.0</td>\n      <td>0.000000e+00</td>\n      <td>0.000000e+00</td>\n    </tr>\n    <tr>\n      <th>2</th>\n      <td>3</td>\n      <td>0.002241</td>\n      <td>-15.580039</td>\n      <td>9.649282</td>\n      <td>0.004957</td>\n      <td>-15.579455</td>\n      <td>-9.999995e+08</td>\n      <td>-9.999995e+08</td>\n      <td>-999999500.0</td>\n      <td>-999999500.0</td>\n      <td>-9.999995e+08</td>\n      <td>-9.999995e+08</td>\n    </tr>\n    <tr>\n      <th>3</th>\n      <td>3</td>\n      <td>0.002241</td>\n      <td>-15.580039</td>\n      <td>0.404487</td>\n      <td>0.002133</td>\n      <td>-15.580083</td>\n      <td>1.149198e+01</td>\n      <td>5.380000e-04</td>\n      <td>-999999500.0</td>\n      <td>-999999500.0</td>\n      <td>1.083459e+01</td>\n      <td>7.280000e-04</td>\n    </tr>\n    <tr>\n      <th>4</th>\n      <td>4</td>\n      <td>359.610486</td>\n      <td>-15.882858</td>\n      <td>3.573147</td>\n      <td>359.611450</td>\n      <td>-15.883210</td>\n      <td>-9.999995e+08</td>\n      <td>-9.999995e+08</td>\n      <td>-999999500.0</td>\n      <td>-999999500.0</td>\n      <td>-9.999995e+08</td>\n      <td>-9.999995e+08</td>\n    </tr>\n    <tr>\n      <th>5</th>\n      <td>4</td>\n      <td>359.610486</td>\n      <td>-15.882858</td>\n      <td>0.423273</td>\n      <td>359.610505</td>\n      <td>-15.882742</td>\n      <td>1.578891e+01</td>\n      <td>5.764000e-03</td>\n      <td>-999999500.0</td>\n      <td>-999999500.0</td>\n      <td>1.513597e+01</td>\n      <td>1.187300e-02</td>\n    </tr>\n    <tr>\n      <th>6</th>\n      <td>4</td>\n      <td>359.610486</td>\n      <td>-15.882858</td>\n      <td>0.413641</td>\n      <td>359.610503</td>\n      <td>-15.882744</td>\n      <td>1.577141e+01</td>\n      <td>6.164000e-03</td>\n      <td>-999999500.0</td>\n      <td>-999999500.0</td>\n      <td>1.513906e+01</td>\n      <td>1.169700e-02</td>\n    </tr>\n    <tr>\n      <th>7</th>\n      <td>5</td>\n      <td>359.226165</td>\n      <td>-15.889380</td>\n      <td>1.269902</td>\n      <td>359.226251</td>\n      <td>-15.889037</td>\n      <td>1.555775e+01</td>\n      <td>4.861000e-03</td>\n      <td>-999999500.0</td>\n      <td>-999999500.0</td>\n      <td>1.556638e+01</td>\n      <td>1.702500e-02</td>\n    </tr>\n    <tr>\n      <th>8</th>\n      <td>6</td>\n      <td>359.226411</td>\n      <td>-15.889004</td>\n      <td>0.567500</td>\n      <td>359.226251</td>\n      <td>-15.889037</td>\n      <td>1.555775e+01</td>\n      <td>4.861000e-03</td>\n      <td>-999999500.0</td>\n      <td>-999999500.0</td>\n      <td>1.556638e+01</td>\n      <td>1.702500e-02</td>\n    </tr>\n    <tr>\n      <th>9</th>\n      <td>7</td>\n      <td>359.973034</td>\n      <td>-28.165985</td>\n      <td>0.000000</td>\n      <td>0.000000</td>\n      <td>0.000000</td>\n      <td>0.000000e+00</td>\n      <td>0.000000e+00</td>\n      <td>0.0</td>\n      <td>0.0</td>\n      <td>0.000000e+00</td>\n      <td>0.000000e+00</td>\n    </tr>\n  </tbody>\n</table>\n</div>"
     },
     "metadata": {},
     "execution_count": 4
    }
   ],
   "source": [
    "VHSDF = pd.read_csv(\"VHSResultspart1-2.csv\")\n",
    "VHSDF.head(10)"
   ]
  },
  {
   "cell_type": "code",
   "execution_count": 8,
   "metadata": {},
   "outputs": [],
   "source": [
    "decreaser = lambda x: x-1\n",
    "VHSDF.upload_ID = VHSDF.upload_ID.apply(decreaser)\n",
    "VHSDF.head(10)\n",
    "VHSDF.to_csv(\"VHS_Change\")"
   ]
  },
  {
   "cell_type": "code",
   "execution_count": null,
   "metadata": {},
   "outputs": [],
   "source": []
  }
 ]
}