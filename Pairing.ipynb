{
 "metadata": {
  "language_info": {
   "codemirror_mode": {
    "name": "ipython",
    "version": 3
   },
   "file_extension": ".py",
   "mimetype": "text/x-python",
   "name": "python",
   "nbconvert_exporter": "python",
   "pygments_lexer": "ipython3",
   "version": "3.7.2-final"
  },
  "orig_nbformat": 2,
  "kernelspec": {
   "name": "python3",
   "display_name": "Python 3.7.2 64-bit",
   "metadata": {
    "interpreter": {
     "hash": "2107dc5a163d7f3f7d3cb65283aa0e4e50d7d24c2ef208f9854b9df550d7f127"
    }
   }
  }
 },
 "nbformat": 4,
 "nbformat_minor": 2,
 "cells": [
  {
   "source": [
    "# Import Neccisary Libraries"
   ],
   "cell_type": "markdown",
   "metadata": {}
  },
  {
   "cell_type": "code",
   "execution_count": 1,
   "metadata": {},
   "outputs": [],
   "source": [
    "import pandas as pd"
   ]
  },
  {
   "source": [
    "# Import Proper Datasets\n",
    "- Marks Data from MarksData.csv\n",
    "- VHS Data from VHS_Change"
   ],
   "cell_type": "markdown",
   "metadata": {}
  },
  {
   "cell_type": "code",
   "execution_count": 20,
   "metadata": {},
   "outputs": [],
   "source": [
    "MarksDF = pd.read_csv(\"MarksData.csv\")\n",
    "VHSDF = pd.read_csv(\"VHS_Change\")"
   ]
  },
  {
   "source": [
    "# Set indexing on VHS to upload_ID"
   ],
   "cell_type": "markdown",
   "metadata": {}
  },
  {
   "cell_type": "code",
   "execution_count": 21,
   "metadata": {},
   "outputs": [
    {
     "output_type": "execute_result",
     "data": {
      "text/plain": [
       "            upload_RA  upload_Dec  distance          ra        dec  \\\n",
       "upload_ID                                                            \n",
       "0          359.906087   -8.837616  0.000000    0.000000   0.000000   \n",
       "1            0.295015   -9.537763  0.000000    0.000000   0.000000   \n",
       "2            0.002241  -15.580039  9.649282    0.004957 -15.579455   \n",
       "2            0.002241  -15.580039  0.404487    0.002133 -15.580083   \n",
       "3          359.610486  -15.882858  3.573147  359.611450 -15.883210   \n",
       "\n",
       "              jAperMag3  jAperMag3Err    hAperMag3  hAperMag3Err  \\\n",
       "upload_ID                                                          \n",
       "0          0.000000e+00  0.000000e+00          0.0           0.0   \n",
       "1          0.000000e+00  0.000000e+00          0.0           0.0   \n",
       "2         -9.999995e+08 -9.999995e+08 -999999500.0  -999999500.0   \n",
       "2          1.149198e+01  5.380000e-04 -999999500.0  -999999500.0   \n",
       "3         -9.999995e+08 -9.999995e+08 -999999500.0  -999999500.0   \n",
       "\n",
       "             ksAperMag3  ksAperMag3Err  \n",
       "upload_ID                               \n",
       "0          0.000000e+00   0.000000e+00  \n",
       "1          0.000000e+00   0.000000e+00  \n",
       "2         -9.999995e+08  -9.999995e+08  \n",
       "2          1.083459e+01   7.280000e-04  \n",
       "3         -9.999995e+08  -9.999995e+08  "
      ],
      "text/html": "<div>\n<style scoped>\n    .dataframe tbody tr th:only-of-type {\n        vertical-align: middle;\n    }\n\n    .dataframe tbody tr th {\n        vertical-align: top;\n    }\n\n    .dataframe thead th {\n        text-align: right;\n    }\n</style>\n<table border=\"1\" class=\"dataframe\">\n  <thead>\n    <tr style=\"text-align: right;\">\n      <th></th>\n      <th>upload_RA</th>\n      <th>upload_Dec</th>\n      <th>distance</th>\n      <th>ra</th>\n      <th>dec</th>\n      <th>jAperMag3</th>\n      <th>jAperMag3Err</th>\n      <th>hAperMag3</th>\n      <th>hAperMag3Err</th>\n      <th>ksAperMag3</th>\n      <th>ksAperMag3Err</th>\n    </tr>\n    <tr>\n      <th>upload_ID</th>\n      <th></th>\n      <th></th>\n      <th></th>\n      <th></th>\n      <th></th>\n      <th></th>\n      <th></th>\n      <th></th>\n      <th></th>\n      <th></th>\n      <th></th>\n    </tr>\n  </thead>\n  <tbody>\n    <tr>\n      <th>0</th>\n      <td>359.906087</td>\n      <td>-8.837616</td>\n      <td>0.000000</td>\n      <td>0.000000</td>\n      <td>0.000000</td>\n      <td>0.000000e+00</td>\n      <td>0.000000e+00</td>\n      <td>0.0</td>\n      <td>0.0</td>\n      <td>0.000000e+00</td>\n      <td>0.000000e+00</td>\n    </tr>\n    <tr>\n      <th>1</th>\n      <td>0.295015</td>\n      <td>-9.537763</td>\n      <td>0.000000</td>\n      <td>0.000000</td>\n      <td>0.000000</td>\n      <td>0.000000e+00</td>\n      <td>0.000000e+00</td>\n      <td>0.0</td>\n      <td>0.0</td>\n      <td>0.000000e+00</td>\n      <td>0.000000e+00</td>\n    </tr>\n    <tr>\n      <th>2</th>\n      <td>0.002241</td>\n      <td>-15.580039</td>\n      <td>9.649282</td>\n      <td>0.004957</td>\n      <td>-15.579455</td>\n      <td>-9.999995e+08</td>\n      <td>-9.999995e+08</td>\n      <td>-999999500.0</td>\n      <td>-999999500.0</td>\n      <td>-9.999995e+08</td>\n      <td>-9.999995e+08</td>\n    </tr>\n    <tr>\n      <th>2</th>\n      <td>0.002241</td>\n      <td>-15.580039</td>\n      <td>0.404487</td>\n      <td>0.002133</td>\n      <td>-15.580083</td>\n      <td>1.149198e+01</td>\n      <td>5.380000e-04</td>\n      <td>-999999500.0</td>\n      <td>-999999500.0</td>\n      <td>1.083459e+01</td>\n      <td>7.280000e-04</td>\n    </tr>\n    <tr>\n      <th>3</th>\n      <td>359.610486</td>\n      <td>-15.882858</td>\n      <td>3.573147</td>\n      <td>359.611450</td>\n      <td>-15.883210</td>\n      <td>-9.999995e+08</td>\n      <td>-9.999995e+08</td>\n      <td>-999999500.0</td>\n      <td>-999999500.0</td>\n      <td>-9.999995e+08</td>\n      <td>-9.999995e+08</td>\n    </tr>\n  </tbody>\n</table>\n</div>"
     },
     "metadata": {},
     "execution_count": 21
    }
   ],
   "source": [
    "VHSDF.set_index('upload_ID', inplace=True)\n",
    "VHSDF.head(5)"
   ]
  },
  {
   "source": [
    "# Begin Addition\n",
    "1. Iterate over Mark's Data per index\n",
    "2. Find index that matches with Mark's\n",
    "3. For all items that match with Mark's add Mark's data, on y-axis(axis:1)"
   ],
   "cell_type": "markdown",
   "metadata": {}
  },
  {
   "cell_type": "code",
   "execution_count": 48,
   "metadata": {},
   "outputs": [
    {
     "output_type": "execute_result",
     "data": {
      "text/plain": [
       "       upload_RA  upload_Dec  distance          ra        dec     jAperMag3  \\\n",
       "0     359.906087   -8.837616  0.000000    0.000000   0.000000  0.000000e+00   \n",
       "1       0.295015   -9.537763  0.000000    0.000000   0.000000  0.000000e+00   \n",
       "2       0.002241  -15.580039  9.649282    0.004957 -15.579455 -9.999995e+08   \n",
       "2       0.002241  -15.580039  0.404487    0.002133 -15.580083  1.149198e+01   \n",
       "3     359.610486  -15.882858  3.573147  359.611450 -15.883210 -9.999995e+08   \n",
       "...          ...         ...       ...         ...        ...           ...   \n",
       "2995  160.280299    6.550211  0.000000    0.000000   0.000000  0.000000e+00   \n",
       "2996  160.130168   37.754515  0.000000    0.000000   0.000000  0.000000e+00   \n",
       "2997  159.575159   62.775717  0.000000    0.000000   0.000000  0.000000e+00   \n",
       "2998  161.847475   28.392516  0.000000    0.000000   0.000000  0.000000e+00   \n",
       "2999  161.571524   23.245712  0.000000    0.000000   0.000000  0.000000e+00   \n",
       "\n",
       "      jAperMag3Err    hAperMag3  hAperMag3Err    ksAperMag3  ...          RA  \\\n",
       "0     0.000000e+00          0.0           0.0  0.000000e+00  ...  359.906120   \n",
       "1     0.000000e+00          0.0           0.0  0.000000e+00  ...    0.295146   \n",
       "2    -9.999995e+08 -999999500.0  -999999500.0 -9.999995e+08  ...    0.002239   \n",
       "2     5.380000e-04 -999999500.0  -999999500.0  1.083459e+01  ...    0.002239   \n",
       "3    -9.999995e+08 -999999500.0  -999999500.0 -9.999995e+08  ...  359.610523   \n",
       "...            ...          ...           ...           ...  ...         ...   \n",
       "2995  0.000000e+00          0.0           0.0  0.000000e+00  ...  160.280321   \n",
       "2996  0.000000e+00          0.0           0.0  0.000000e+00  ...  160.130103   \n",
       "2997  0.000000e+00          0.0           0.0  0.000000e+00  ...  159.575187   \n",
       "2998  0.000000e+00          0.0           0.0  0.000000e+00  ...  161.847475   \n",
       "2999  0.000000e+00          0.0           0.0  0.000000e+00  ...  161.571436   \n",
       "\n",
       "              Dec     PmrA    PMDEC  sigPMRA  sigPMDEC  w1mpro_pm  \\\n",
       "0      -8.8376156  0.12063  0.00614  0.01450    0.0145     15.239   \n",
       "1      -9.5377627  0.46477 -0.28417  0.09770    0.0943     18.556   \n",
       "2     -15.5800395 -0.00660  0.26086  0.06524    0.0038      9.416   \n",
       "2     -15.5800395 -0.00660  0.26086  0.06524    0.0038      9.416   \n",
       "3     -15.8828579  0.12830 -0.04228  0.01450    0.0136     14.898   \n",
       "...           ...      ...      ...      ...       ...        ...   \n",
       "2995    6.5502106  0.08065 -0.34441  0.01820    0.0225     15.567   \n",
       "2996   37.7545154 -0.18438 -0.02605  0.00900    0.0096     14.392   \n",
       "2997   62.7757167  0.04581 -0.09785  0.00350    0.0037      8.799   \n",
       "2998   28.3925161  0.00000  0.00000  0.01510    0.0215     17.158   \n",
       "2999   23.2457119 -0.29231  0.05216  0.01780    0.0194     14.731   \n",
       "\n",
       "      w1sigmpro_pm  w2mpro_pm  w2sigmpro_pm  \n",
       "0            0.019     14.664         0.022  \n",
       "1            0.200     16.111         0.072  \n",
       "2            0.011      9.222         0.008  \n",
       "2            0.011      9.222         0.008  \n",
       "3            0.018     14.948         0.034  \n",
       "...            ...        ...           ...  \n",
       "2995         0.022     15.490         0.042  \n",
       "2996         0.015     14.226         0.017  \n",
       "2997         0.011      8.638         0.008  \n",
       "2998           NaN     17.236           NaN  \n",
       "2999         0.024     14.658         0.028  \n",
       "\n",
       "[4793 rows x 21 columns]"
      ],
      "text/html": "<div>\n<style scoped>\n    .dataframe tbody tr th:only-of-type {\n        vertical-align: middle;\n    }\n\n    .dataframe tbody tr th {\n        vertical-align: top;\n    }\n\n    .dataframe thead th {\n        text-align: right;\n    }\n</style>\n<table border=\"1\" class=\"dataframe\">\n  <thead>\n    <tr style=\"text-align: right;\">\n      <th></th>\n      <th>upload_RA</th>\n      <th>upload_Dec</th>\n      <th>distance</th>\n      <th>ra</th>\n      <th>dec</th>\n      <th>jAperMag3</th>\n      <th>jAperMag3Err</th>\n      <th>hAperMag3</th>\n      <th>hAperMag3Err</th>\n      <th>ksAperMag3</th>\n      <th>...</th>\n      <th>RA</th>\n      <th>Dec</th>\n      <th>PmrA</th>\n      <th>PMDEC</th>\n      <th>sigPMRA</th>\n      <th>sigPMDEC</th>\n      <th>w1mpro_pm</th>\n      <th>w1sigmpro_pm</th>\n      <th>w2mpro_pm</th>\n      <th>w2sigmpro_pm</th>\n    </tr>\n  </thead>\n  <tbody>\n    <tr>\n      <th>0</th>\n      <td>359.906087</td>\n      <td>-8.837616</td>\n      <td>0.000000</td>\n      <td>0.000000</td>\n      <td>0.000000</td>\n      <td>0.000000e+00</td>\n      <td>0.000000e+00</td>\n      <td>0.0</td>\n      <td>0.0</td>\n      <td>0.000000e+00</td>\n      <td>...</td>\n      <td>359.906120</td>\n      <td>-8.8376156</td>\n      <td>0.12063</td>\n      <td>0.00614</td>\n      <td>0.01450</td>\n      <td>0.0145</td>\n      <td>15.239</td>\n      <td>0.019</td>\n      <td>14.664</td>\n      <td>0.022</td>\n    </tr>\n    <tr>\n      <th>1</th>\n      <td>0.295015</td>\n      <td>-9.537763</td>\n      <td>0.000000</td>\n      <td>0.000000</td>\n      <td>0.000000</td>\n      <td>0.000000e+00</td>\n      <td>0.000000e+00</td>\n      <td>0.0</td>\n      <td>0.0</td>\n      <td>0.000000e+00</td>\n      <td>...</td>\n      <td>0.295146</td>\n      <td>-9.5377627</td>\n      <td>0.46477</td>\n      <td>-0.28417</td>\n      <td>0.09770</td>\n      <td>0.0943</td>\n      <td>18.556</td>\n      <td>0.200</td>\n      <td>16.111</td>\n      <td>0.072</td>\n    </tr>\n    <tr>\n      <th>2</th>\n      <td>0.002241</td>\n      <td>-15.580039</td>\n      <td>9.649282</td>\n      <td>0.004957</td>\n      <td>-15.579455</td>\n      <td>-9.999995e+08</td>\n      <td>-9.999995e+08</td>\n      <td>-999999500.0</td>\n      <td>-999999500.0</td>\n      <td>-9.999995e+08</td>\n      <td>...</td>\n      <td>0.002239</td>\n      <td>-15.5800395</td>\n      <td>-0.00660</td>\n      <td>0.26086</td>\n      <td>0.06524</td>\n      <td>0.0038</td>\n      <td>9.416</td>\n      <td>0.011</td>\n      <td>9.222</td>\n      <td>0.008</td>\n    </tr>\n    <tr>\n      <th>2</th>\n      <td>0.002241</td>\n      <td>-15.580039</td>\n      <td>0.404487</td>\n      <td>0.002133</td>\n      <td>-15.580083</td>\n      <td>1.149198e+01</td>\n      <td>5.380000e-04</td>\n      <td>-999999500.0</td>\n      <td>-999999500.0</td>\n      <td>1.083459e+01</td>\n      <td>...</td>\n      <td>0.002239</td>\n      <td>-15.5800395</td>\n      <td>-0.00660</td>\n      <td>0.26086</td>\n      <td>0.06524</td>\n      <td>0.0038</td>\n      <td>9.416</td>\n      <td>0.011</td>\n      <td>9.222</td>\n      <td>0.008</td>\n    </tr>\n    <tr>\n      <th>3</th>\n      <td>359.610486</td>\n      <td>-15.882858</td>\n      <td>3.573147</td>\n      <td>359.611450</td>\n      <td>-15.883210</td>\n      <td>-9.999995e+08</td>\n      <td>-9.999995e+08</td>\n      <td>-999999500.0</td>\n      <td>-999999500.0</td>\n      <td>-9.999995e+08</td>\n      <td>...</td>\n      <td>359.610523</td>\n      <td>-15.8828579</td>\n      <td>0.12830</td>\n      <td>-0.04228</td>\n      <td>0.01450</td>\n      <td>0.0136</td>\n      <td>14.898</td>\n      <td>0.018</td>\n      <td>14.948</td>\n      <td>0.034</td>\n    </tr>\n    <tr>\n      <th>...</th>\n      <td>...</td>\n      <td>...</td>\n      <td>...</td>\n      <td>...</td>\n      <td>...</td>\n      <td>...</td>\n      <td>...</td>\n      <td>...</td>\n      <td>...</td>\n      <td>...</td>\n      <td>...</td>\n      <td>...</td>\n      <td>...</td>\n      <td>...</td>\n      <td>...</td>\n      <td>...</td>\n      <td>...</td>\n      <td>...</td>\n      <td>...</td>\n      <td>...</td>\n      <td>...</td>\n    </tr>\n    <tr>\n      <th>2995</th>\n      <td>160.280299</td>\n      <td>6.550211</td>\n      <td>0.000000</td>\n      <td>0.000000</td>\n      <td>0.000000</td>\n      <td>0.000000e+00</td>\n      <td>0.000000e+00</td>\n      <td>0.0</td>\n      <td>0.0</td>\n      <td>0.000000e+00</td>\n      <td>...</td>\n      <td>160.280321</td>\n      <td>6.5502106</td>\n      <td>0.08065</td>\n      <td>-0.34441</td>\n      <td>0.01820</td>\n      <td>0.0225</td>\n      <td>15.567</td>\n      <td>0.022</td>\n      <td>15.490</td>\n      <td>0.042</td>\n    </tr>\n    <tr>\n      <th>2996</th>\n      <td>160.130168</td>\n      <td>37.754515</td>\n      <td>0.000000</td>\n      <td>0.000000</td>\n      <td>0.000000</td>\n      <td>0.000000e+00</td>\n      <td>0.000000e+00</td>\n      <td>0.0</td>\n      <td>0.0</td>\n      <td>0.000000e+00</td>\n      <td>...</td>\n      <td>160.130103</td>\n      <td>37.7545154</td>\n      <td>-0.18438</td>\n      <td>-0.02605</td>\n      <td>0.00900</td>\n      <td>0.0096</td>\n      <td>14.392</td>\n      <td>0.015</td>\n      <td>14.226</td>\n      <td>0.017</td>\n    </tr>\n    <tr>\n      <th>2997</th>\n      <td>159.575159</td>\n      <td>62.775717</td>\n      <td>0.000000</td>\n      <td>0.000000</td>\n      <td>0.000000</td>\n      <td>0.000000e+00</td>\n      <td>0.000000e+00</td>\n      <td>0.0</td>\n      <td>0.0</td>\n      <td>0.000000e+00</td>\n      <td>...</td>\n      <td>159.575187</td>\n      <td>62.7757167</td>\n      <td>0.04581</td>\n      <td>-0.09785</td>\n      <td>0.00350</td>\n      <td>0.0037</td>\n      <td>8.799</td>\n      <td>0.011</td>\n      <td>8.638</td>\n      <td>0.008</td>\n    </tr>\n    <tr>\n      <th>2998</th>\n      <td>161.847475</td>\n      <td>28.392516</td>\n      <td>0.000000</td>\n      <td>0.000000</td>\n      <td>0.000000</td>\n      <td>0.000000e+00</td>\n      <td>0.000000e+00</td>\n      <td>0.0</td>\n      <td>0.0</td>\n      <td>0.000000e+00</td>\n      <td>...</td>\n      <td>161.847475</td>\n      <td>28.3925161</td>\n      <td>0.00000</td>\n      <td>0.00000</td>\n      <td>0.01510</td>\n      <td>0.0215</td>\n      <td>17.158</td>\n      <td>NaN</td>\n      <td>17.236</td>\n      <td>NaN</td>\n    </tr>\n    <tr>\n      <th>2999</th>\n      <td>161.571524</td>\n      <td>23.245712</td>\n      <td>0.000000</td>\n      <td>0.000000</td>\n      <td>0.000000</td>\n      <td>0.000000e+00</td>\n      <td>0.000000e+00</td>\n      <td>0.0</td>\n      <td>0.0</td>\n      <td>0.000000e+00</td>\n      <td>...</td>\n      <td>161.571436</td>\n      <td>23.2457119</td>\n      <td>-0.29231</td>\n      <td>0.05216</td>\n      <td>0.01780</td>\n      <td>0.0194</td>\n      <td>14.731</td>\n      <td>0.024</td>\n      <td>14.658</td>\n      <td>0.028</td>\n    </tr>\n  </tbody>\n</table>\n<p>4793 rows × 21 columns</p>\n</div>"
     },
     "metadata": {},
     "execution_count": 48
    }
   ],
   "source": [
    "Marks_Test = MarksDF\n",
    "VHSDF_Test = VHSDF\n",
    "VHSDF_Test.join(Marks_Test).iloc[: , :21]"
   ]
  },
  {
   "source": [
    "# Put Data into new CSV"
   ],
   "cell_type": "markdown",
   "metadata": {}
  },
  {
   "cell_type": "code",
   "execution_count": 50,
   "metadata": {},
   "outputs": [],
   "source": [
    "Output = VHSDF_Test.join(Marks_Test).iloc[: , :21]\n",
    "Output.to_csv(\"Final_Output.csv\")"
   ]
  },
  {
   "cell_type": "code",
   "execution_count": null,
   "metadata": {},
   "outputs": [],
   "source": []
  }
 ]
}